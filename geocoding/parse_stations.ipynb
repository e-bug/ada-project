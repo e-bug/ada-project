{
 "cells": [
  {
   "cell_type": "markdown",
   "metadata": {},
   "source": [
    "# Get all station names and locations"
   ]
  },
  {
   "cell_type": "code",
   "execution_count": 1,
   "metadata": {
    "collapsed": true
   },
   "outputs": [],
   "source": [
    "%load_ext autoreload\n",
    "%autoreload 2"
   ]
  },
  {
   "cell_type": "code",
   "execution_count": 137,
   "metadata": {
    "collapsed": true
   },
   "outputs": [],
   "source": [
    "import re\n",
    "import pandas as pd"
   ]
  },
  {
   "cell_type": "code",
   "execution_count": 18,
   "metadata": {
    "collapsed": true
   },
   "outputs": [],
   "source": [
    "stationsFile = 'stations.txt'"
   ]
  },
  {
   "cell_type": "code",
   "execution_count": 129,
   "metadata": {
    "collapsed": true
   },
   "outputs": [],
   "source": [
    "def getParsedStation(string):\n",
    "    name = string.split()[0]\n",
    "    lat_lng = re.search(\"(\\d+)°(\\d+)'/(\\d+)°(\\d+)'\", string).group(0)\n",
    "    lat = lat_lng.split('/')[0]\n",
    "    lng = lat_lng.split('/')[1]\n",
    "    return name, degreeMin2Decimal(lat), degreeMin2Decimal(lng)"
   ]
  },
  {
   "cell_type": "code",
   "execution_count": 127,
   "metadata": {
    "collapsed": true
   },
   "outputs": [],
   "source": [
    "def degreeMin2Decimal(dm):\n",
    "    # Whole of swiss is in NE.\n",
    "    deg = int(dm.split('°')[0])\n",
    "    minutes = int(dm.split('°')[1].split('\\'')[0])\n",
    "    return deg + minutes/60"
   ]
  },
  {
   "cell_type": "code",
   "execution_count": 131,
   "metadata": {
    "collapsed": false
   },
   "outputs": [],
   "source": [
    "station_dict = {}\n",
    "with open(stationsFile) as fp:\n",
    "    for line in fp:\n",
    "        name, lat, lng = getParsedStation(line)\n",
    "        station_dict[name] = (lat, lng)"
   ]
  },
  {
   "cell_type": "code",
   "execution_count": 150,
   "metadata": {
    "collapsed": false
   },
   "outputs": [
    {
     "data": {
      "text/html": [
       "<div>\n",
       "<table border=\"1\" class=\"dataframe\">\n",
       "  <thead>\n",
       "    <tr style=\"text-align: right;\">\n",
       "      <th></th>\n",
       "      <th>lat</th>\n",
       "      <th>lng</th>\n",
       "    </tr>\n",
       "  </thead>\n",
       "  <tbody>\n",
       "    <tr>\n",
       "      <th>RAG</th>\n",
       "      <td>9.500000</td>\n",
       "      <td>47.016667</td>\n",
       "    </tr>\n",
       "    <tr>\n",
       "      <th>BEH</th>\n",
       "      <td>10.016667</td>\n",
       "      <td>46.416667</td>\n",
       "    </tr>\n",
       "    <tr>\n",
       "      <th>WSLJUF</th>\n",
       "      <td>6.283333</td>\n",
       "      <td>46.233333</td>\n",
       "    </tr>\n",
       "    <tr>\n",
       "      <th>ALT</th>\n",
       "      <td>8.616667</td>\n",
       "      <td>46.883333</td>\n",
       "    </tr>\n",
       "    <tr>\n",
       "      <th>CHB</th>\n",
       "      <td>6.316667</td>\n",
       "      <td>46.666667</td>\n",
       "    </tr>\n",
       "  </tbody>\n",
       "</table>\n",
       "</div>"
      ],
      "text/plain": [
       "              lat        lng\n",
       "RAG      9.500000  47.016667\n",
       "BEH     10.016667  46.416667\n",
       "WSLJUF   6.283333  46.233333\n",
       "ALT      8.616667  46.883333\n",
       "CHB      6.316667  46.666667"
      ]
     },
     "execution_count": 150,
     "metadata": {},
     "output_type": "execute_result"
    }
   ],
   "source": [
    "station_df = pd.DataFrame.from_dict(station_dict, orient='index')\n",
    "station_df = station_df.rename(columns = {0:'lat', 1:'lng'})\n",
    "station_df.head()"
   ]
  },
  {
   "cell_type": "code",
   "execution_count": null,
   "metadata": {
    "collapsed": true
   },
   "outputs": [],
   "source": []
  }
 ],
 "metadata": {
  "anaconda-cloud": {},
  "kernelspec": {
   "display_name": "Python [Root]",
   "language": "python",
   "name": "Python [Root]"
  },
  "language_info": {
   "codemirror_mode": {
    "name": "ipython",
    "version": 3
   },
   "file_extension": ".py",
   "mimetype": "text/x-python",
   "name": "python",
   "nbconvert_exporter": "python",
   "pygments_lexer": "ipython3",
   "version": "3.5.2"
  }
 },
 "nbformat": 4,
 "nbformat_minor": 0
}
