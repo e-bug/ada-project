{
 "cells": [
  {
   "cell_type": "markdown",
   "metadata": {},
   "source": [
    "# Get all station names and locations"
   ]
  },
  {
   "cell_type": "code",
   "execution_count": 151,
   "metadata": {
    "collapsed": false
   },
   "outputs": [
    {
     "name": "stdout",
     "output_type": "stream",
     "text": [
      "The autoreload extension is already loaded. To reload it, use:\n",
      "  %reload_ext autoreload\n"
     ]
    }
   ],
   "source": [
    "%load_ext autoreload\n",
    "%autoreload 2"
   ]
  },
  {
   "cell_type": "code",
   "execution_count": 152,
   "metadata": {
    "collapsed": true
   },
   "outputs": [],
   "source": [
    "import re\n",
    "import pandas as pd"
   ]
  },
  {
   "cell_type": "code",
   "execution_count": 157,
   "metadata": {
    "collapsed": true
   },
   "outputs": [],
   "source": [
    "stationsFile = 'stations_minimum.txt'"
   ]
  },
  {
   "cell_type": "code",
   "execution_count": 158,
   "metadata": {
    "collapsed": true
   },
   "outputs": [],
   "source": [
    "def getParsedStation(string):\n",
    "    name = string.split()[0]\n",
    "    lat_lng = re.search(\"(\\d+)°(\\d+)'/(\\d+)°(\\d+)'\", string).group(0)\n",
    "    lat = lat_lng.split('/')[0]\n",
    "    lng = lat_lng.split('/')[1]\n",
    "    return name, degreeMin2Decimal(lat), degreeMin2Decimal(lng)"
   ]
  },
  {
   "cell_type": "code",
   "execution_count": 159,
   "metadata": {
    "collapsed": true
   },
   "outputs": [],
   "source": [
    "def degreeMin2Decimal(dm):\n",
    "    # Whole of swiss is in NE.\n",
    "    deg = int(dm.split('°')[0])\n",
    "    minutes = int(dm.split('°')[1].split('\\'')[0])\n",
    "    return deg + minutes/60"
   ]
  },
  {
   "cell_type": "code",
   "execution_count": 160,
   "metadata": {
    "collapsed": false
   },
   "outputs": [],
   "source": [
    "station_dict = {}\n",
    "with open(stationsFile) as fp:\n",
    "    for line in fp:\n",
    "        name, lat, lng = getParsedStation(line)\n",
    "        station_dict[name] = (lat, lng)"
   ]
  },
  {
   "cell_type": "code",
   "execution_count": 161,
   "metadata": {
    "collapsed": false
   },
   "outputs": [
    {
     "data": {
      "text/html": [
       "<div>\n",
       "<table border=\"1\" class=\"dataframe\">\n",
       "  <thead>\n",
       "    <tr style=\"text-align: right;\">\n",
       "      <th></th>\n",
       "      <th>lat</th>\n",
       "      <th>lng</th>\n",
       "    </tr>\n",
       "  </thead>\n",
       "  <tbody>\n",
       "    <tr>\n",
       "      <th>BEZ</th>\n",
       "      <td>8.233333</td>\n",
       "      <td>47.550000</td>\n",
       "    </tr>\n",
       "    <tr>\n",
       "      <th>MVE</th>\n",
       "      <td>7.466667</td>\n",
       "      <td>46.300000</td>\n",
       "    </tr>\n",
       "    <tr>\n",
       "      <th>MTR</th>\n",
       "      <td>8.916667</td>\n",
       "      <td>46.416667</td>\n",
       "    </tr>\n",
       "    <tr>\n",
       "      <th>MOE</th>\n",
       "      <td>7.883333</td>\n",
       "      <td>47.566667</td>\n",
       "    </tr>\n",
       "    <tr>\n",
       "      <th>RAG</th>\n",
       "      <td>9.500000</td>\n",
       "      <td>47.016667</td>\n",
       "    </tr>\n",
       "  </tbody>\n",
       "</table>\n",
       "</div>"
      ],
      "text/plain": [
       "          lat        lng\n",
       "BEZ  8.233333  47.550000\n",
       "MVE  7.466667  46.300000\n",
       "MTR  8.916667  46.416667\n",
       "MOE  7.883333  47.566667\n",
       "RAG  9.500000  47.016667"
      ]
     },
     "execution_count": 161,
     "metadata": {},
     "output_type": "execute_result"
    }
   ],
   "source": [
    "station_df = pd.DataFrame.from_dict(station_dict, orient='index')\n",
    "station_df = station_df.rename(columns = {0:'lat', 1:'lng'})\n",
    "station_df.head()"
   ]
  },
  {
   "cell_type": "code",
   "execution_count": null,
   "metadata": {
    "collapsed": true
   },
   "outputs": [],
   "source": [
    "pickle.dump(station_df, open(\"station_df.p\", \"wb\"))"
   ]
  }
 ],
 "metadata": {
  "anaconda-cloud": {},
  "kernelspec": {
   "display_name": "Python [Root]",
   "language": "python",
   "name": "Python [Root]"
  },
  "language_info": {
   "codemirror_mode": {
    "name": "ipython",
    "version": 3
   },
   "file_extension": ".py",
   "mimetype": "text/x-python",
   "name": "python",
   "nbconvert_exporter": "python",
   "pygments_lexer": "ipython3",
   "version": "3.5.2"
  }
 },
 "nbformat": 4,
 "nbformat_minor": 0
}
