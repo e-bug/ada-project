{
 "cells": [
  {
   "cell_type": "code",
   "execution_count": 1,
   "metadata": {
    "collapsed": false
   },
   "outputs": [],
   "source": [
    "%load_ext autoreload\n",
    "%autoreload 2"
   ]
  },
  {
   "cell_type": "code",
   "execution_count": 2,
   "metadata": {
    "collapsed": true
   },
   "outputs": [],
   "source": [
    "import pandas as pd\n",
    "import numpy as np\n",
    "import pickle\n",
    "import matplotlib.pyplot as plt\n",
    "\n",
    "%matplotlib inline"
   ]
  },
  {
   "cell_type": "markdown",
   "metadata": {},
   "source": [
    "# (A) Nearest Stations"
   ]
  },
  {
   "cell_type": "code",
   "execution_count": 3,
   "metadata": {
    "collapsed": false
   },
   "outputs": [
    {
     "name": "stdout",
     "output_type": "stream",
     "text": [
      "/home/ema/Dropbox/ada/solarity/geocoding\n"
     ]
    }
   ],
   "source": [
    "cd geocoding/"
   ]
  },
  {
   "cell_type": "code",
   "execution_count": 4,
   "metadata": {
    "collapsed": false
   },
   "outputs": [],
   "source": [
    "import geocoding_functions as geo_fns\n",
    "import location_functions as loc_fns\n",
    "import station_info"
   ]
  },
  {
   "cell_type": "markdown",
   "metadata": {},
   "source": [
    "## User input"
   ]
  },
  {
   "cell_type": "code",
   "execution_count": 5,
   "metadata": {
    "collapsed": true
   },
   "outputs": [],
   "source": [
    "address = \"DubendorfStrasse 119, 8051 Zurich\""
   ]
  },
  {
   "cell_type": "markdown",
   "metadata": {},
   "source": [
    "## Parameters"
   ]
  },
  {
   "cell_type": "code",
   "execution_count": 6,
   "metadata": {
    "collapsed": true
   },
   "outputs": [],
   "source": [
    "k = 3 ##Number of nearest neighbouring stations"
   ]
  },
  {
   "cell_type": "markdown",
   "metadata": {},
   "source": [
    "### Get coordinates of the address"
   ]
  },
  {
   "cell_type": "code",
   "execution_count": 7,
   "metadata": {
    "collapsed": false
   },
   "outputs": [],
   "source": [
    "coordinates = geo_fns.getCoordinates(address)\n",
    "if(coordinates is None):\n",
    "    print(\"*** Invalid Address ***\")\n",
    "    print(\"Sample address: Route Cantonale 33, 1025 St. Sulpice\")\n",
    "    exit(0)"
   ]
  },
  {
   "cell_type": "code",
   "execution_count": 8,
   "metadata": {
    "collapsed": false,
    "scrolled": true
   },
   "outputs": [
    {
     "data": {
      "text/plain": [
       "(47.4025356, 8.5791568)"
      ]
     },
     "execution_count": 8,
     "metadata": {},
     "output_type": "execute_result"
    }
   ],
   "source": [
    "coordinates"
   ]
  },
  {
   "cell_type": "markdown",
   "metadata": {},
   "source": [
    "### Read pickled station info"
   ]
  },
  {
   "cell_type": "code",
   "execution_count": 9,
   "metadata": {
    "collapsed": false
   },
   "outputs": [],
   "source": [
    "station_df = pickle.load(open(\"station_df.p\",\"rb\"))"
   ]
  },
  {
   "cell_type": "code",
   "execution_count": 10,
   "metadata": {
    "collapsed": false
   },
   "outputs": [
    {
     "data": {
      "text/html": [
       "<div>\n",
       "<table border=\"1\" class=\"dataframe\">\n",
       "  <thead>\n",
       "    <tr style=\"text-align: right;\">\n",
       "      <th></th>\n",
       "      <th>name</th>\n",
       "      <th>lat</th>\n",
       "      <th>lng</th>\n",
       "    </tr>\n",
       "  </thead>\n",
       "  <tbody>\n",
       "    <tr>\n",
       "      <th>0</th>\n",
       "      <td>VSVER</td>\n",
       "      <td>46.233333</td>\n",
       "      <td>7.550000</td>\n",
       "    </tr>\n",
       "    <tr>\n",
       "      <th>1</th>\n",
       "      <td>VSCOL</td>\n",
       "      <td>46.183333</td>\n",
       "      <td>7.383333</td>\n",
       "    </tr>\n",
       "    <tr>\n",
       "      <th>2</th>\n",
       "      <td>AIG</td>\n",
       "      <td>46.333333</td>\n",
       "      <td>6.916667</td>\n",
       "    </tr>\n",
       "    <tr>\n",
       "      <th>3</th>\n",
       "      <td>DEM</td>\n",
       "      <td>47.350000</td>\n",
       "      <td>7.350000</td>\n",
       "    </tr>\n",
       "    <tr>\n",
       "      <th>4</th>\n",
       "      <td>SRS</td>\n",
       "      <td>46.983333</td>\n",
       "      <td>9.666667</td>\n",
       "    </tr>\n",
       "  </tbody>\n",
       "</table>\n",
       "</div>"
      ],
      "text/plain": [
       "    name        lat       lng\n",
       "0  VSVER  46.233333  7.550000\n",
       "1  VSCOL  46.183333  7.383333\n",
       "2    AIG  46.333333  6.916667\n",
       "3    DEM  47.350000  7.350000\n",
       "4    SRS  46.983333  9.666667"
      ]
     },
     "execution_count": 10,
     "metadata": {},
     "output_type": "execute_result"
    }
   ],
   "source": [
    "station_df.head()"
   ]
  },
  {
   "cell_type": "markdown",
   "metadata": {},
   "source": [
    "### Get k nearest stations and their weights"
   ]
  },
  {
   "cell_type": "code",
   "execution_count": 12,
   "metadata": {
    "collapsed": false
   },
   "outputs": [],
   "source": [
    "neighbourNames = loc_fns.get_k_nearest_neighbours(coordinates, k, station_df)\n",
    "neighbourWeights = loc_fns.get_weights_for_k_nearest(coordinates, k, station_df)"
   ]
  },
  {
   "cell_type": "code",
   "execution_count": 13,
   "metadata": {
    "collapsed": false
   },
   "outputs": [
    {
     "data": {
      "text/plain": [
       "193    SMA\n",
       "129    REH\n",
       "131    KLO\n",
       "Name: name, dtype: object"
      ]
     },
     "execution_count": 13,
     "metadata": {},
     "output_type": "execute_result"
    }
   ],
   "source": [
    "neighbourNames"
   ]
  },
  {
   "cell_type": "code",
   "execution_count": 14,
   "metadata": {
    "collapsed": false
   },
   "outputs": [
    {
     "data": {
      "text/plain": [
       "array([ 0.60843995,  0.24404087,  0.14751917])"
      ]
     },
     "execution_count": 14,
     "metadata": {},
     "output_type": "execute_result"
    }
   ],
   "source": [
    "neighbourWeights"
   ]
  },
  {
   "cell_type": "code",
   "execution_count": 15,
   "metadata": {
    "collapsed": false
   },
   "outputs": [
    {
     "name": "stdout",
     "output_type": "stream",
     "text": [
      "/home/ema/Dropbox/ada/solarity\n"
     ]
    }
   ],
   "source": [
    "cd .."
   ]
  },
  {
   "cell_type": "markdown",
   "metadata": {},
   "source": [
    "# (B) Solar potential"
   ]
  },
  {
   "cell_type": "code",
   "execution_count": 16,
   "metadata": {
    "collapsed": true
   },
   "outputs": [],
   "source": [
    "means = pickle.load(open('learning/groupedStations.p', 'rb'))"
   ]
  },
  {
   "cell_type": "code",
   "execution_count": 17,
   "metadata": {
    "collapsed": false
   },
   "outputs": [],
   "source": [
    "def get_monthly_power_potential(stations, weights, means):\n",
    "    potential = 0\n",
    "    for i in range(len(stations)):\n",
    "        potential = potential + means.power[stations[i]].get_values() * weights[i]\n",
    "    \n",
    "    return potential"
   ]
  },
  {
   "cell_type": "code",
   "execution_count": 18,
   "metadata": {
    "collapsed": true
   },
   "outputs": [],
   "source": [
    "monthly_potential = get_monthly_power_potential(neighbourNames.get_values(), neighbourWeights, means)"
   ]
  },
  {
   "cell_type": "code",
   "execution_count": 19,
   "metadata": {
    "collapsed": false
   },
   "outputs": [
    {
     "data": {
      "text/plain": [
       "0.13263507493695473"
      ]
     },
     "execution_count": 19,
     "metadata": {},
     "output_type": "execute_result"
    }
   ],
   "source": [
    "potential = np.mean(np.array(monthly_potential)) ## in Wp\n",
    "potential"
   ]
  },
  {
   "cell_type": "markdown",
   "metadata": {},
   "source": [
    "# (C) Installation Costs"
   ]
  },
  {
   "cell_type": "markdown",
   "metadata": {},
   "source": [
    "## User input"
   ]
  },
  {
   "cell_type": "code",
   "execution_count": 20,
   "metadata": {
    "collapsed": true
   },
   "outputs": [],
   "source": [
    "averageElectricityBill = np.array([80]) ## CHF\n",
    "roofArea = 30 ## m2"
   ]
  },
  {
   "cell_type": "markdown",
   "metadata": {},
   "source": [
    "## Parameters"
   ]
  },
  {
   "cell_type": "markdown",
   "metadata": {},
   "source": [
    "#### Electricity"
   ]
  },
  {
   "cell_type": "code",
   "execution_count": 21,
   "metadata": {
    "collapsed": true
   },
   "outputs": [],
   "source": [
    "elecTarrif = 0.20 ##CHF/Kwh"
   ]
  },
  {
   "cell_type": "markdown",
   "metadata": {},
   "source": [
    "#### Solar"
   ]
  },
  {
   "cell_type": "code",
   "execution_count": 22,
   "metadata": {
    "collapsed": true
   },
   "outputs": [],
   "source": [
    "capacityPerPanel = 255 ## Wp\n",
    "costPerPanel = 500 ## CHF\n",
    "panelArea = 1.62 ## m2"
   ]
  },
  {
   "cell_type": "markdown",
   "metadata": {},
   "source": [
    "## Average Consumption"
   ]
  },
  {
   "cell_type": "code",
   "execution_count": 23,
   "metadata": {
    "collapsed": true
   },
   "outputs": [],
   "source": [
    "hours = 24\n",
    "days = 30\n",
    "milli = 1000"
   ]
  },
  {
   "cell_type": "code",
   "execution_count": 24,
   "metadata": {
    "collapsed": false
   },
   "outputs": [
    {
     "data": {
      "text/plain": [
       "array([ 400.])"
      ]
     },
     "execution_count": 24,
     "metadata": {},
     "output_type": "execute_result"
    }
   ],
   "source": [
    "avgEnergy = averageElectricityBill / elecTarrif\n",
    "avgEnergy"
   ]
  },
  {
   "cell_type": "code",
   "execution_count": 25,
   "metadata": {
    "collapsed": false
   },
   "outputs": [
    {
     "data": {
      "text/plain": [
       "array([ 0.55555556])"
      ]
     },
     "execution_count": 25,
     "metadata": {},
     "output_type": "execute_result"
    }
   ],
   "source": [
    "avgPower = avgEnergy / (hours*days) ## Kw\n",
    "avgPower"
   ]
  },
  {
   "cell_type": "markdown",
   "metadata": {},
   "source": [
    "## Solar Cost and Capacity"
   ]
  },
  {
   "cell_type": "code",
   "execution_count": 26,
   "metadata": {
    "collapsed": true
   },
   "outputs": [],
   "source": [
    "installation = np.array(range(5,101,5)) / 100"
   ]
  },
  {
   "cell_type": "code",
   "execution_count": 27,
   "metadata": {
    "collapsed": true
   },
   "outputs": [],
   "source": [
    "numPanels = np.floor(roofArea/panelArea)"
   ]
  },
  {
   "cell_type": "code",
   "execution_count": 28,
   "metadata": {
    "collapsed": true
   },
   "outputs": [],
   "source": [
    "capacity = installation * numPanels * capacityPerPanel / 1000 ## Kwp\n",
    "cost = installation * numPanels * costPerPanel ## CHF\n",
    "solarPower = capacity * potential ## in Kw"
   ]
  },
  {
   "cell_type": "code",
   "execution_count": 29,
   "metadata": {
    "collapsed": false
   },
   "outputs": [
    {
     "data": {
      "text/plain": [
       "array([ 0.03043975,  0.0608795 ,  0.09131925,  0.121759  ,  0.15219875,\n",
       "        0.1826385 ,  0.21307825,  0.243518  ,  0.27395775,  0.3043975 ,\n",
       "        0.33483725,  0.365277  ,  0.39571675,  0.4261565 ,  0.45659625,\n",
       "        0.487036  ,  0.51747574,  0.54791549,  0.57835524,  0.60879499])"
      ]
     },
     "execution_count": 29,
     "metadata": {},
     "output_type": "execute_result"
    }
   ],
   "source": [
    "solarPower"
   ]
  },
  {
   "cell_type": "markdown",
   "metadata": {},
   "source": [
    "### Finding suitable installations"
   ]
  },
  {
   "cell_type": "code",
   "execution_count": 32,
   "metadata": {
    "collapsed": false
   },
   "outputs": [],
   "source": [
    "indx = solarPower <= avgPower\n",
    "installationFinal = installation[indx]\n",
    "installCapacity = capacity[indx]\n",
    "installCost = cost[indx]\n",
    "installPower = solarPower[indx]"
   ]
  },
  {
   "cell_type": "code",
   "execution_count": 33,
   "metadata": {
    "collapsed": false
   },
   "outputs": [
    {
     "data": {
      "text/html": [
       "<div>\n",
       "<table border=\"1\" class=\"dataframe\">\n",
       "  <thead>\n",
       "    <tr style=\"text-align: right;\">\n",
       "      <th></th>\n",
       "      <th>capacity</th>\n",
       "      <th>cost</th>\n",
       "      <th>power</th>\n",
       "    </tr>\n",
       "    <tr>\n",
       "      <th>installation</th>\n",
       "      <th></th>\n",
       "      <th></th>\n",
       "      <th></th>\n",
       "    </tr>\n",
       "  </thead>\n",
       "  <tbody>\n",
       "    <tr>\n",
       "      <th>0.05</th>\n",
       "      <td>0.2295</td>\n",
       "      <td>450.0</td>\n",
       "      <td>0.030440</td>\n",
       "    </tr>\n",
       "    <tr>\n",
       "      <th>0.10</th>\n",
       "      <td>0.4590</td>\n",
       "      <td>900.0</td>\n",
       "      <td>0.060879</td>\n",
       "    </tr>\n",
       "    <tr>\n",
       "      <th>0.15</th>\n",
       "      <td>0.6885</td>\n",
       "      <td>1350.0</td>\n",
       "      <td>0.091319</td>\n",
       "    </tr>\n",
       "    <tr>\n",
       "      <th>0.20</th>\n",
       "      <td>0.9180</td>\n",
       "      <td>1800.0</td>\n",
       "      <td>0.121759</td>\n",
       "    </tr>\n",
       "    <tr>\n",
       "      <th>0.25</th>\n",
       "      <td>1.1475</td>\n",
       "      <td>2250.0</td>\n",
       "      <td>0.152199</td>\n",
       "    </tr>\n",
       "    <tr>\n",
       "      <th>0.30</th>\n",
       "      <td>1.3770</td>\n",
       "      <td>2700.0</td>\n",
       "      <td>0.182638</td>\n",
       "    </tr>\n",
       "    <tr>\n",
       "      <th>0.35</th>\n",
       "      <td>1.6065</td>\n",
       "      <td>3150.0</td>\n",
       "      <td>0.213078</td>\n",
       "    </tr>\n",
       "    <tr>\n",
       "      <th>0.40</th>\n",
       "      <td>1.8360</td>\n",
       "      <td>3600.0</td>\n",
       "      <td>0.243518</td>\n",
       "    </tr>\n",
       "    <tr>\n",
       "      <th>0.45</th>\n",
       "      <td>2.0655</td>\n",
       "      <td>4050.0</td>\n",
       "      <td>0.273958</td>\n",
       "    </tr>\n",
       "    <tr>\n",
       "      <th>0.50</th>\n",
       "      <td>2.2950</td>\n",
       "      <td>4500.0</td>\n",
       "      <td>0.304397</td>\n",
       "    </tr>\n",
       "    <tr>\n",
       "      <th>0.55</th>\n",
       "      <td>2.5245</td>\n",
       "      <td>4950.0</td>\n",
       "      <td>0.334837</td>\n",
       "    </tr>\n",
       "    <tr>\n",
       "      <th>0.60</th>\n",
       "      <td>2.7540</td>\n",
       "      <td>5400.0</td>\n",
       "      <td>0.365277</td>\n",
       "    </tr>\n",
       "    <tr>\n",
       "      <th>0.65</th>\n",
       "      <td>2.9835</td>\n",
       "      <td>5850.0</td>\n",
       "      <td>0.395717</td>\n",
       "    </tr>\n",
       "    <tr>\n",
       "      <th>0.70</th>\n",
       "      <td>3.2130</td>\n",
       "      <td>6300.0</td>\n",
       "      <td>0.426156</td>\n",
       "    </tr>\n",
       "    <tr>\n",
       "      <th>0.75</th>\n",
       "      <td>3.4425</td>\n",
       "      <td>6750.0</td>\n",
       "      <td>0.456596</td>\n",
       "    </tr>\n",
       "    <tr>\n",
       "      <th>0.80</th>\n",
       "      <td>3.6720</td>\n",
       "      <td>7200.0</td>\n",
       "      <td>0.487036</td>\n",
       "    </tr>\n",
       "    <tr>\n",
       "      <th>0.85</th>\n",
       "      <td>3.9015</td>\n",
       "      <td>7650.0</td>\n",
       "      <td>0.517476</td>\n",
       "    </tr>\n",
       "    <tr>\n",
       "      <th>0.90</th>\n",
       "      <td>4.1310</td>\n",
       "      <td>8100.0</td>\n",
       "      <td>0.547915</td>\n",
       "    </tr>\n",
       "  </tbody>\n",
       "</table>\n",
       "</div>"
      ],
      "text/plain": [
       "              capacity    cost     power\n",
       "installation                            \n",
       "0.05            0.2295   450.0  0.030440\n",
       "0.10            0.4590   900.0  0.060879\n",
       "0.15            0.6885  1350.0  0.091319\n",
       "0.20            0.9180  1800.0  0.121759\n",
       "0.25            1.1475  2250.0  0.152199\n",
       "0.30            1.3770  2700.0  0.182638\n",
       "0.35            1.6065  3150.0  0.213078\n",
       "0.40            1.8360  3600.0  0.243518\n",
       "0.45            2.0655  4050.0  0.273958\n",
       "0.50            2.2950  4500.0  0.304397\n",
       "0.55            2.5245  4950.0  0.334837\n",
       "0.60            2.7540  5400.0  0.365277\n",
       "0.65            2.9835  5850.0  0.395717\n",
       "0.70            3.2130  6300.0  0.426156\n",
       "0.75            3.4425  6750.0  0.456596\n",
       "0.80            3.6720  7200.0  0.487036\n",
       "0.85            3.9015  7650.0  0.517476\n",
       "0.90            4.1310  8100.0  0.547915"
      ]
     },
     "execution_count": 33,
     "metadata": {},
     "output_type": "execute_result"
    }
   ],
   "source": [
    "solar_df = pd.DataFrame()\n",
    "solar_df['capacity'] = installCapacity\n",
    "solar_df['cost'] = installCost\n",
    "solar_df['power'] = installPower\n",
    "solar_df['installation'] = installationFinal\n",
    "solar_df = solar_df.set_index('installation')\n",
    "solar_df"
   ]
  },
  {
   "cell_type": "markdown",
   "metadata": {},
   "source": [
    "# (D) Savings and break-even time"
   ]
  },
  {
   "cell_type": "code",
   "execution_count": 34,
   "metadata": {
    "collapsed": true
   },
   "outputs": [],
   "source": [
    "def get_new_bill(bill, power):\n",
    "    avgEnergyUsed = bill / elecTarrif\n",
    "    avgEnergyUsed_daytime = avgEnergyUsed / 2\n",
    "    nightUsage = avgEnergyUsed / 2\n",
    "\n",
    "    avgEnergyProduced = power * hours * days\n",
    "    \n",
    "    newBill = np.empty(len(power))\n",
    "    newUsageFromUtility = np.empty(len(power))\n",
    "    for i in range(len(power)):\n",
    "        dayUsage = max(0, avgEnergyUsed_daytime - avgEnergyProduced[i])\n",
    "        newUsageFromUtility[i] = dayUsage + nightUsage\n",
    "        newBill[i] = newUsageFromUtility[i] * elecTarrif\n",
    "\n",
    "    return newBill, newUsageFromUtility"
   ]
  },
  {
   "cell_type": "code",
   "execution_count": 35,
   "metadata": {
    "collapsed": false
   },
   "outputs": [],
   "source": [
    "newBill, newUsage = get_new_bill(averageElectricityBill, installPower)"
   ]
  },
  {
   "cell_type": "code",
   "execution_count": 36,
   "metadata": {
    "collapsed": false
   },
   "outputs": [],
   "source": [
    "totalYears = 25\n",
    "monthsInAYear = 12\n",
    "def get_cummulative_savings(oldBill, newBill, cost):\n",
    "    months = range(1, totalYears*monthsInAYear + 1)\n",
    "    savings = np.empty((len(newBill), len(months)))\n",
    "    for i in range(len(newBill)):\n",
    "        eachMonth = oldBill - newBill[i]\n",
    "        savings[i,:] = eachMonth*months - cost[i]\n",
    "    return savings"
   ]
  },
  {
   "cell_type": "code",
   "execution_count": 37,
   "metadata": {
    "collapsed": false
   },
   "outputs": [],
   "source": [
    "savings = get_cummulative_savings(averageElectricityBill, newBill, installCost)"
   ]
  },
  {
   "cell_type": "code",
   "execution_count": 38,
   "metadata": {
    "collapsed": false
   },
   "outputs": [],
   "source": [
    "finalSavings = savings[:,-1]"
   ]
  },
  {
   "cell_type": "code",
   "execution_count": 39,
   "metadata": {
    "collapsed": true
   },
   "outputs": [],
   "source": [
    "def get_break_even_time(savings):\n",
    "    nInstalls = savings.shape[0]\n",
    "    breakEven = np.empty(nInstalls)\n",
    "    for i in range(nInstalls):\n",
    "        breakEven[i] = np.argmax(savings[i,:] > 0)\n",
    "\n",
    "    return breakEven"
   ]
  },
  {
   "cell_type": "code",
   "execution_count": 40,
   "metadata": {
    "collapsed": false
   },
   "outputs": [],
   "source": [
    "breakEven = get_break_even_time(savings)/12"
   ]
  },
  {
   "cell_type": "markdown",
   "metadata": {},
   "source": [
    "### Prettify Result"
   ]
  },
  {
   "cell_type": "code",
   "execution_count": 41,
   "metadata": {
    "collapsed": false
   },
   "outputs": [
    {
     "data": {
      "text/plain": [
       "array([ 75.61667604,  71.23335209,  66.85002813,  62.46670417,\n",
       "        58.08338022,  53.70005626,  49.3167323 ,  44.93340835,\n",
       "        40.55008439,  40.        ,  40.        ,  40.        ,\n",
       "        40.        ,  40.        ,  40.        ,  40.        ,\n",
       "        40.        ,  40.        ])"
      ]
     },
     "execution_count": 41,
     "metadata": {},
     "output_type": "execute_result"
    }
   ],
   "source": [
    "newBill"
   ]
  },
  {
   "cell_type": "code",
   "execution_count": 42,
   "metadata": {
    "collapsed": false
   },
   "outputs": [
    {
     "data": {
      "text/html": [
       "<div>\n",
       "<table border=\"1\" class=\"dataframe\">\n",
       "  <thead>\n",
       "    <tr style=\"text-align: right;\">\n",
       "      <th></th>\n",
       "      <th>capacity</th>\n",
       "      <th>cost</th>\n",
       "      <th>power</th>\n",
       "      <th>breakEvenYears</th>\n",
       "      <th>savings_after_25yrs</th>\n",
       "      <th>annual_savings</th>\n",
       "    </tr>\n",
       "    <tr>\n",
       "      <th>installation</th>\n",
       "      <th></th>\n",
       "      <th></th>\n",
       "      <th></th>\n",
       "      <th></th>\n",
       "      <th></th>\n",
       "      <th></th>\n",
       "    </tr>\n",
       "  </thead>\n",
       "  <tbody>\n",
       "    <tr>\n",
       "      <th>0.05</th>\n",
       "      <td>0.2295</td>\n",
       "      <td>450.0</td>\n",
       "      <td>0.030440</td>\n",
       "      <td>8.500000</td>\n",
       "      <td>864.997187</td>\n",
       "      <td>34.599887</td>\n",
       "    </tr>\n",
       "    <tr>\n",
       "      <th>0.10</th>\n",
       "      <td>0.4590</td>\n",
       "      <td>900.0</td>\n",
       "      <td>0.060879</td>\n",
       "      <td>8.500000</td>\n",
       "      <td>1729.994374</td>\n",
       "      <td>69.199775</td>\n",
       "    </tr>\n",
       "    <tr>\n",
       "      <th>0.15</th>\n",
       "      <td>0.6885</td>\n",
       "      <td>1350.0</td>\n",
       "      <td>0.091319</td>\n",
       "      <td>8.500000</td>\n",
       "      <td>2594.991561</td>\n",
       "      <td>103.799662</td>\n",
       "    </tr>\n",
       "    <tr>\n",
       "      <th>0.20</th>\n",
       "      <td>0.9180</td>\n",
       "      <td>1800.0</td>\n",
       "      <td>0.121759</td>\n",
       "      <td>8.500000</td>\n",
       "      <td>3459.988748</td>\n",
       "      <td>138.399550</td>\n",
       "    </tr>\n",
       "    <tr>\n",
       "      <th>0.25</th>\n",
       "      <td>1.1475</td>\n",
       "      <td>2250.0</td>\n",
       "      <td>0.152199</td>\n",
       "      <td>8.500000</td>\n",
       "      <td>4324.985935</td>\n",
       "      <td>172.999437</td>\n",
       "    </tr>\n",
       "    <tr>\n",
       "      <th>0.30</th>\n",
       "      <td>1.3770</td>\n",
       "      <td>2700.0</td>\n",
       "      <td>0.182638</td>\n",
       "      <td>8.500000</td>\n",
       "      <td>5189.983122</td>\n",
       "      <td>207.599325</td>\n",
       "    </tr>\n",
       "    <tr>\n",
       "      <th>0.35</th>\n",
       "      <td>1.6065</td>\n",
       "      <td>3150.0</td>\n",
       "      <td>0.213078</td>\n",
       "      <td>8.500000</td>\n",
       "      <td>6054.980309</td>\n",
       "      <td>242.199212</td>\n",
       "    </tr>\n",
       "    <tr>\n",
       "      <th>0.40</th>\n",
       "      <td>1.8360</td>\n",
       "      <td>3600.0</td>\n",
       "      <td>0.243518</td>\n",
       "      <td>8.500000</td>\n",
       "      <td>6919.977496</td>\n",
       "      <td>276.799100</td>\n",
       "    </tr>\n",
       "    <tr>\n",
       "      <th>0.45</th>\n",
       "      <td>2.0655</td>\n",
       "      <td>4050.0</td>\n",
       "      <td>0.273958</td>\n",
       "      <td>8.500000</td>\n",
       "      <td>7784.974683</td>\n",
       "      <td>311.398987</td>\n",
       "    </tr>\n",
       "    <tr>\n",
       "      <th>0.50</th>\n",
       "      <td>2.2950</td>\n",
       "      <td>4500.0</td>\n",
       "      <td>0.304397</td>\n",
       "      <td>9.333333</td>\n",
       "      <td>7500.000000</td>\n",
       "      <td>300.000000</td>\n",
       "    </tr>\n",
       "    <tr>\n",
       "      <th>0.55</th>\n",
       "      <td>2.5245</td>\n",
       "      <td>4950.0</td>\n",
       "      <td>0.334837</td>\n",
       "      <td>10.250000</td>\n",
       "      <td>7050.000000</td>\n",
       "      <td>282.000000</td>\n",
       "    </tr>\n",
       "    <tr>\n",
       "      <th>0.60</th>\n",
       "      <td>2.7540</td>\n",
       "      <td>5400.0</td>\n",
       "      <td>0.365277</td>\n",
       "      <td>11.166667</td>\n",
       "      <td>6600.000000</td>\n",
       "      <td>264.000000</td>\n",
       "    </tr>\n",
       "    <tr>\n",
       "      <th>0.65</th>\n",
       "      <td>2.9835</td>\n",
       "      <td>5850.0</td>\n",
       "      <td>0.395717</td>\n",
       "      <td>12.166667</td>\n",
       "      <td>6150.000000</td>\n",
       "      <td>246.000000</td>\n",
       "    </tr>\n",
       "    <tr>\n",
       "      <th>0.70</th>\n",
       "      <td>3.2130</td>\n",
       "      <td>6300.0</td>\n",
       "      <td>0.426156</td>\n",
       "      <td>13.083333</td>\n",
       "      <td>5700.000000</td>\n",
       "      <td>228.000000</td>\n",
       "    </tr>\n",
       "    <tr>\n",
       "      <th>0.75</th>\n",
       "      <td>3.4425</td>\n",
       "      <td>6750.0</td>\n",
       "      <td>0.456596</td>\n",
       "      <td>14.000000</td>\n",
       "      <td>5250.000000</td>\n",
       "      <td>210.000000</td>\n",
       "    </tr>\n",
       "    <tr>\n",
       "      <th>0.80</th>\n",
       "      <td>3.6720</td>\n",
       "      <td>7200.0</td>\n",
       "      <td>0.487036</td>\n",
       "      <td>15.000000</td>\n",
       "      <td>4800.000000</td>\n",
       "      <td>192.000000</td>\n",
       "    </tr>\n",
       "    <tr>\n",
       "      <th>0.85</th>\n",
       "      <td>3.9015</td>\n",
       "      <td>7650.0</td>\n",
       "      <td>0.517476</td>\n",
       "      <td>15.916667</td>\n",
       "      <td>4350.000000</td>\n",
       "      <td>174.000000</td>\n",
       "    </tr>\n",
       "    <tr>\n",
       "      <th>0.90</th>\n",
       "      <td>4.1310</td>\n",
       "      <td>8100.0</td>\n",
       "      <td>0.547915</td>\n",
       "      <td>16.833333</td>\n",
       "      <td>3900.000000</td>\n",
       "      <td>156.000000</td>\n",
       "    </tr>\n",
       "  </tbody>\n",
       "</table>\n",
       "</div>"
      ],
      "text/plain": [
       "              capacity    cost     power  breakEvenYears  savings_after_25yrs  \\\n",
       "installation                                                                    \n",
       "0.05            0.2295   450.0  0.030440        8.500000           864.997187   \n",
       "0.10            0.4590   900.0  0.060879        8.500000          1729.994374   \n",
       "0.15            0.6885  1350.0  0.091319        8.500000          2594.991561   \n",
       "0.20            0.9180  1800.0  0.121759        8.500000          3459.988748   \n",
       "0.25            1.1475  2250.0  0.152199        8.500000          4324.985935   \n",
       "0.30            1.3770  2700.0  0.182638        8.500000          5189.983122   \n",
       "0.35            1.6065  3150.0  0.213078        8.500000          6054.980309   \n",
       "0.40            1.8360  3600.0  0.243518        8.500000          6919.977496   \n",
       "0.45            2.0655  4050.0  0.273958        8.500000          7784.974683   \n",
       "0.50            2.2950  4500.0  0.304397        9.333333          7500.000000   \n",
       "0.55            2.5245  4950.0  0.334837       10.250000          7050.000000   \n",
       "0.60            2.7540  5400.0  0.365277       11.166667          6600.000000   \n",
       "0.65            2.9835  5850.0  0.395717       12.166667          6150.000000   \n",
       "0.70            3.2130  6300.0  0.426156       13.083333          5700.000000   \n",
       "0.75            3.4425  6750.0  0.456596       14.000000          5250.000000   \n",
       "0.80            3.6720  7200.0  0.487036       15.000000          4800.000000   \n",
       "0.85            3.9015  7650.0  0.517476       15.916667          4350.000000   \n",
       "0.90            4.1310  8100.0  0.547915       16.833333          3900.000000   \n",
       "\n",
       "              annual_savings  \n",
       "installation                  \n",
       "0.05               34.599887  \n",
       "0.10               69.199775  \n",
       "0.15              103.799662  \n",
       "0.20              138.399550  \n",
       "0.25              172.999437  \n",
       "0.30              207.599325  \n",
       "0.35              242.199212  \n",
       "0.40              276.799100  \n",
       "0.45              311.398987  \n",
       "0.50              300.000000  \n",
       "0.55              282.000000  \n",
       "0.60              264.000000  \n",
       "0.65              246.000000  \n",
       "0.70              228.000000  \n",
       "0.75              210.000000  \n",
       "0.80              192.000000  \n",
       "0.85              174.000000  \n",
       "0.90              156.000000  "
      ]
     },
     "execution_count": 42,
     "metadata": {},
     "output_type": "execute_result"
    }
   ],
   "source": [
    "final_df = solar_df\n",
    "final_df['breakEvenYears'] = breakEven\n",
    "final_df['savings_after_25yrs'] = finalSavings\n",
    "final_df['annual_savings'] = finalSavings/totalYears\n",
    "final_df"
   ]
  },
  {
   "cell_type": "markdown",
   "metadata": {},
   "source": [
    "### Plot savings"
   ]
  },
  {
   "cell_type": "code",
   "execution_count": 43,
   "metadata": {
    "collapsed": false
   },
   "outputs": [
    {
     "data": {
      "image/png": "[encoded data removed]",
      "text/plain": [
       "<matplotlib.figure.Figure at 0x7f390506c208>"
      ]
     },
     "metadata": {},
     "output_type": "display_data"
    }
   ],
   "source": [
    "for i in range(savings.shape[0]):\n",
    "    plt.plot(savings[i,:])"
   ]
  },
  {
   "cell_type": "code",
   "execution_count": null,
   "metadata": {
    "collapsed": true
   },
   "outputs": [],
   "source": []
  }
 ],
 "metadata": {
  "anaconda-cloud": {},
  "kernelspec": {
   "display_name": "Python [Root]",
   "language": "python",
   "name": "Python [Root]"
  },
  "language_info": {
   "codemirror_mode": {
    "name": "ipython",
    "version": 3
   },
   "file_extension": ".py",
   "mimetype": "text/x-python",
   "name": "python",
   "nbconvert_exporter": "python",
   "pygments_lexer": "ipython3",
   "version": "3.5.2"
  }
 },
 "nbformat": 4,
 "nbformat_minor": 0
}
