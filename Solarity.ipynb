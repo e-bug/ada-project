{
 "cells": [
  {
   "cell_type": "code",
   "execution_count": 42,
   "metadata": {
    "collapsed": false
   },
   "outputs": [
    {
     "name": "stdout",
     "output_type": "stream",
     "text": [
      "The autoreload extension is already loaded. To reload it, use:\n",
      "  %reload_ext autoreload\n"
     ]
    }
   ],
   "source": [
    "%load_ext autoreload\n",
    "%autoreload 2"
   ]
  },
  {
   "cell_type": "code",
   "execution_count": 43,
   "metadata": {
    "collapsed": true
   },
   "outputs": [],
   "source": [
    "import pandas as pd\n",
    "import numpy as np\n",
    "import pickle\n",
    "import matplotlib.pyplot as plt\n",
    "\n",
    "%matplotlib inline"
   ]
  },
  {
   "cell_type": "markdown",
   "metadata": {},
   "source": [
    "# (A) Nearest Stations"
   ]
  },
  {
   "cell_type": "code",
   "execution_count": 44,
   "metadata": {
    "collapsed": false
   },
   "outputs": [
    {
     "name": "stdout",
     "output_type": "stream",
     "text": [
      "/Users/mohiuddi/Desktop/Courses/ADA/solarity/geocoding\n"
     ]
    }
   ],
   "source": [
    "cd geocoding/"
   ]
  },
  {
   "cell_type": "code",
   "execution_count": 45,
   "metadata": {
    "collapsed": false
   },
   "outputs": [],
   "source": [
    "import geocoding_functions as geo_fns\n",
    "import location_functions as loc_fns\n",
    "import station_info"
   ]
  },
  {
   "cell_type": "markdown",
   "metadata": {},
   "source": [
    "## User input"
   ]
  },
  {
   "cell_type": "code",
   "execution_count": 46,
   "metadata": {
    "collapsed": true
   },
   "outputs": [],
   "source": [
    "address = \"Route Cantonale 39B, 1025 St. Sulpice\""
   ]
  },
  {
   "cell_type": "markdown",
   "metadata": {},
   "source": [
    "## Parameters"
   ]
  },
  {
   "cell_type": "code",
   "execution_count": 47,
   "metadata": {
    "collapsed": true
   },
   "outputs": [],
   "source": [
    "k = 3 ##Number of nearest neighbouring stations"
   ]
  },
  {
   "cell_type": "markdown",
   "metadata": {},
   "source": [
    "### Get coordinates of the address"
   ]
  },
  {
   "cell_type": "code",
   "execution_count": 48,
   "metadata": {
    "collapsed": false
   },
   "outputs": [],
   "source": [
    "coordinates = geo_fns.getCoordinates(address)\n",
    "if(coordinates is None):\n",
    "    print(\"*** Invalid Address ***\")\n",
    "    print(\"Sample address: Route Cantonale 33, 1025 St. Sulpice\")\n",
    "    exit(0)"
   ]
  },
  {
   "cell_type": "code",
   "execution_count": 49,
   "metadata": {
    "collapsed": false,
    "scrolled": true
   },
   "outputs": [
    {
     "data": {
      "text/plain": [
       "(46.5159793, 6.5637658)"
      ]
     },
     "execution_count": 49,
     "metadata": {},
     "output_type": "execute_result"
    }
   ],
   "source": [
    "coordinates"
   ]
  },
  {
   "cell_type": "markdown",
   "metadata": {},
   "source": [
    "### Read pickled station info"
   ]
  },
  {
   "cell_type": "code",
   "execution_count": 50,
   "metadata": {
    "collapsed": false
   },
   "outputs": [],
   "source": [
    "station_df = pickle.load(open(\"station_df.p\",\"rb\"))"
   ]
  },
  {
   "cell_type": "code",
   "execution_count": 51,
   "metadata": {
    "collapsed": false
   },
   "outputs": [
    {
     "data": {
      "text/html": [
       "<div>\n",
       "<table border=\"1\" class=\"dataframe\">\n",
       "  <thead>\n",
       "    <tr style=\"text-align: right;\">\n",
       "      <th></th>\n",
       "      <th>name</th>\n",
       "      <th>lat</th>\n",
       "      <th>lng</th>\n",
       "    </tr>\n",
       "  </thead>\n",
       "  <tbody>\n",
       "    <tr>\n",
       "      <th>0</th>\n",
       "      <td>NAP</td>\n",
       "      <td>47.000000</td>\n",
       "      <td>7.933333</td>\n",
       "    </tr>\n",
       "    <tr>\n",
       "      <th>1</th>\n",
       "      <td>TAE</td>\n",
       "      <td>47.483333</td>\n",
       "      <td>8.900000</td>\n",
       "    </tr>\n",
       "    <tr>\n",
       "      <th>2</th>\n",
       "      <td>MTE</td>\n",
       "      <td>46.150000</td>\n",
       "      <td>7.616667</td>\n",
       "    </tr>\n",
       "    <tr>\n",
       "      <th>3</th>\n",
       "      <td>WSLNAF</td>\n",
       "      <td>46.666667</td>\n",
       "      <td>10.233333</td>\n",
       "    </tr>\n",
       "    <tr>\n",
       "      <th>4</th>\n",
       "      <td>UEB</td>\n",
       "      <td>47.350000</td>\n",
       "      <td>8.483333</td>\n",
       "    </tr>\n",
       "  </tbody>\n",
       "</table>\n",
       "</div>"
      ],
      "text/plain": [
       "     name        lat        lng\n",
       "0     NAP  47.000000   7.933333\n",
       "1     TAE  47.483333   8.900000\n",
       "2     MTE  46.150000   7.616667\n",
       "3  WSLNAF  46.666667  10.233333\n",
       "4     UEB  47.350000   8.483333"
      ]
     },
     "execution_count": 51,
     "metadata": {},
     "output_type": "execute_result"
    }
   ],
   "source": [
    "station_df.head()"
   ]
  },
  {
   "cell_type": "markdown",
   "metadata": {},
   "source": [
    "### Get k nearest stations and their weights"
   ]
  },
  {
   "cell_type": "code",
   "execution_count": 52,
   "metadata": {
    "collapsed": false
   },
   "outputs": [],
   "source": [
    "neighbourNames = loc_fns.get_k_nearest_neighbours(coordinates, k, station_df)\n",
    "neighbourWeights = loc_fns.get_weights_for_k_nearest(coordinates, k, station_df)"
   ]
  },
  {
   "cell_type": "code",
   "execution_count": 53,
   "metadata": {
    "collapsed": false
   },
   "outputs": [
    {
     "data": {
      "text/plain": [
       "45       PUY\n",
       "17    WSLLAF\n",
       "68       BIE\n",
       "Name: name, dtype: object"
      ]
     },
     "execution_count": 53,
     "metadata": {},
     "output_type": "execute_result"
    }
   ],
   "source": [
    "neighbourNames"
   ]
  },
  {
   "cell_type": "code",
   "execution_count": 54,
   "metadata": {
    "collapsed": false
   },
   "outputs": [
    {
     "data": {
      "text/plain": [
       "array([ 0.4185834 ,  0.37991494,  0.20150166])"
      ]
     },
     "execution_count": 54,
     "metadata": {},
     "output_type": "execute_result"
    }
   ],
   "source": [
    "neighbourWeights"
   ]
  },
  {
   "cell_type": "code",
   "execution_count": 55,
   "metadata": {
    "collapsed": false
   },
   "outputs": [
    {
     "name": "stdout",
     "output_type": "stream",
     "text": [
      "/Users/mohiuddi/Desktop/Courses/ADA/solarity\n"
     ]
    }
   ],
   "source": [
    "cd .."
   ]
  },
  {
   "cell_type": "markdown",
   "metadata": {},
   "source": [
    "# (B) Solar potential"
   ]
  },
  {
   "cell_type": "code",
   "execution_count": 56,
   "metadata": {
    "collapsed": true
   },
   "outputs": [],
   "source": [
    "means = pickle.load(open('learning/groupedStations.p', 'rb'))"
   ]
  },
  {
   "cell_type": "code",
   "execution_count": 57,
   "metadata": {
    "collapsed": false
   },
   "outputs": [],
   "source": [
    "meansAllFeatures = pickle.load(open('learning/groupedStationsAllFeatures.p', 'rb'))"
   ]
  },
  {
   "cell_type": "code",
   "execution_count": 58,
   "metadata": {
    "collapsed": false
   },
   "outputs": [],
   "source": [
    "def get_monthly_power_potential(stations, weights, means):\n",
    "    potential = 0\n",
    "    for i in range(len(stations)):\n",
    "        potential = potential + means.power[stations[i]].get_values() * weights[i]\n",
    "    \n",
    "    return potential"
   ]
  },
  {
   "cell_type": "code",
   "execution_count": 59,
   "metadata": {
    "collapsed": false
   },
   "outputs": [],
   "source": [
    "monthly_potential = get_monthly_power_potential(neighbourNames.get_values(), neighbourWeights, means)"
   ]
  },
  {
   "cell_type": "code",
   "execution_count": 60,
   "metadata": {
    "collapsed": false
   },
   "outputs": [
    {
     "data": {
      "text/plain": [
       "0.14828548713532164"
      ]
     },
     "execution_count": 60,
     "metadata": {},
     "output_type": "execute_result"
    }
   ],
   "source": [
    "potential = np.mean(np.array(monthly_potential)) ## in Wp\n",
    "potential"
   ]
  },
  {
   "cell_type": "code",
   "execution_count": 61,
   "metadata": {
    "collapsed": true
   },
   "outputs": [],
   "source": [
    "monthly_potentialAllFeatures = get_monthly_power_potential(neighbourNames.get_values(), neighbourWeights, meansAllFeatures)"
   ]
  },
  {
   "cell_type": "code",
   "execution_count": 62,
   "metadata": {
    "collapsed": false
   },
   "outputs": [
    {
     "data": {
      "text/plain": [
       "0.14828548713532164"
      ]
     },
     "execution_count": 62,
     "metadata": {},
     "output_type": "execute_result"
    }
   ],
   "source": [
    "potentialAllFeatures = np.mean(np.array(monthly_potential)) ## in Wp\n",
    "potentialAllFeatures"
   ]
  },
  {
   "cell_type": "markdown",
   "metadata": {},
   "source": [
    "TODO: Really? Exactly same? check"
   ]
  },
  {
   "cell_type": "markdown",
   "metadata": {},
   "source": [
    "# (C) Installation Costs"
   ]
  },
  {
   "cell_type": "markdown",
   "metadata": {},
   "source": [
    "## User input"
   ]
  },
  {
   "cell_type": "code",
   "execution_count": 19,
   "metadata": {
    "collapsed": true
   },
   "outputs": [],
   "source": [
    "averageElectricityBill = np.array([80]) ## CHF\n",
    "roofArea = 30 ## m2"
   ]
  },
  {
   "cell_type": "markdown",
   "metadata": {},
   "source": [
    "## Parameters"
   ]
  },
  {
   "cell_type": "markdown",
   "metadata": {},
   "source": [
    "#### Electricity"
   ]
  },
  {
   "cell_type": "code",
   "execution_count": 20,
   "metadata": {
    "collapsed": true
   },
   "outputs": [],
   "source": [
    "elecTarrif = 0.20 ##CHF/Kwh"
   ]
  },
  {
   "cell_type": "markdown",
   "metadata": {},
   "source": [
    "#### Solar"
   ]
  },
  {
   "cell_type": "code",
   "execution_count": 21,
   "metadata": {
    "collapsed": true
   },
   "outputs": [],
   "source": [
    "capacityPerPanel = 255 ## Wp\n",
    "costPerPanel = 500 ## CHF\n",
    "panelArea = 1.62 ## m2"
   ]
  },
  {
   "cell_type": "markdown",
   "metadata": {},
   "source": [
    "## Average Consumption"
   ]
  },
  {
   "cell_type": "code",
   "execution_count": 22,
   "metadata": {
    "collapsed": true
   },
   "outputs": [],
   "source": [
    "hours = 24\n",
    "days = 30\n",
    "milli = 1000"
   ]
  },
  {
   "cell_type": "code",
   "execution_count": 23,
   "metadata": {
    "collapsed": false
   },
   "outputs": [
    {
     "data": {
      "text/plain": [
       "array([ 400.])"
      ]
     },
     "execution_count": 23,
     "metadata": {},
     "output_type": "execute_result"
    }
   ],
   "source": [
    "avgEnergy = averageElectricityBill / elecTarrif\n",
    "avgEnergy"
   ]
  },
  {
   "cell_type": "code",
   "execution_count": 24,
   "metadata": {
    "collapsed": false
   },
   "outputs": [
    {
     "data": {
      "text/plain": [
       "array([ 0.55555556])"
      ]
     },
     "execution_count": 24,
     "metadata": {},
     "output_type": "execute_result"
    }
   ],
   "source": [
    "avgPower = avgEnergy / (hours*days) ## Kw\n",
    "avgPower"
   ]
  },
  {
   "cell_type": "markdown",
   "metadata": {},
   "source": [
    "## Solar Cost and Capacity"
   ]
  },
  {
   "cell_type": "code",
   "execution_count": 25,
   "metadata": {
    "collapsed": true
   },
   "outputs": [],
   "source": [
    "installation = np.array(range(5,101,5)) / 100"
   ]
  },
  {
   "cell_type": "code",
   "execution_count": 26,
   "metadata": {
    "collapsed": true
   },
   "outputs": [],
   "source": [
    "numPanels = np.floor(roofArea/panelArea)"
   ]
  },
  {
   "cell_type": "code",
   "execution_count": 27,
   "metadata": {
    "collapsed": true
   },
   "outputs": [],
   "source": [
    "capacity = installation * numPanels * capacityPerPanel / 1000 ## Kwp\n",
    "cost = installation * numPanels * costPerPanel ## CHF\n",
    "solarPower = capacity * potential ## in Kw"
   ]
  },
  {
   "cell_type": "code",
   "execution_count": 28,
   "metadata": {
    "collapsed": false
   },
   "outputs": [
    {
     "data": {
      "text/plain": [
       "array([ 0.03403152,  0.06806304,  0.10209456,  0.13612608,  0.1701576 ,\n",
       "        0.20418912,  0.23822064,  0.27225215,  0.30628367,  0.34031519,\n",
       "        0.37434671,  0.40837823,  0.44240975,  0.47644127,  0.51047279,\n",
       "        0.54450431,  0.57853583,  0.61256735,  0.64659887,  0.68063039])"
      ]
     },
     "execution_count": 28,
     "metadata": {},
     "output_type": "execute_result"
    }
   ],
   "source": [
    "solarPower"
   ]
  },
  {
   "cell_type": "markdown",
   "metadata": {},
   "source": [
    "### Finding suitable installations"
   ]
  },
  {
   "cell_type": "code",
   "execution_count": 29,
   "metadata": {
    "collapsed": false
   },
   "outputs": [],
   "source": [
    "indx = solarPower <= avgPower\n",
    "installationFinal = installation[indx]\n",
    "installCapacity = capacity[indx]\n",
    "installCost = cost[indx]\n",
    "installPower = solarPower[indx]"
   ]
  },
  {
   "cell_type": "code",
   "execution_count": 30,
   "metadata": {
    "collapsed": false
   },
   "outputs": [
    {
     "data": {
      "text/html": [
       "<div>\n",
       "<table border=\"1\" class=\"dataframe\">\n",
       "  <thead>\n",
       "    <tr style=\"text-align: right;\">\n",
       "      <th></th>\n",
       "      <th>capacity</th>\n",
       "      <th>cost</th>\n",
       "      <th>power</th>\n",
       "    </tr>\n",
       "    <tr>\n",
       "      <th>installation</th>\n",
       "      <th></th>\n",
       "      <th></th>\n",
       "      <th></th>\n",
       "    </tr>\n",
       "  </thead>\n",
       "  <tbody>\n",
       "    <tr>\n",
       "      <th>0.05</th>\n",
       "      <td>0.2295</td>\n",
       "      <td>450.0</td>\n",
       "      <td>0.034032</td>\n",
       "    </tr>\n",
       "    <tr>\n",
       "      <th>0.10</th>\n",
       "      <td>0.4590</td>\n",
       "      <td>900.0</td>\n",
       "      <td>0.068063</td>\n",
       "    </tr>\n",
       "    <tr>\n",
       "      <th>0.15</th>\n",
       "      <td>0.6885</td>\n",
       "      <td>1350.0</td>\n",
       "      <td>0.102095</td>\n",
       "    </tr>\n",
       "    <tr>\n",
       "      <th>0.20</th>\n",
       "      <td>0.9180</td>\n",
       "      <td>1800.0</td>\n",
       "      <td>0.136126</td>\n",
       "    </tr>\n",
       "    <tr>\n",
       "      <th>0.25</th>\n",
       "      <td>1.1475</td>\n",
       "      <td>2250.0</td>\n",
       "      <td>0.170158</td>\n",
       "    </tr>\n",
       "    <tr>\n",
       "      <th>0.30</th>\n",
       "      <td>1.3770</td>\n",
       "      <td>2700.0</td>\n",
       "      <td>0.204189</td>\n",
       "    </tr>\n",
       "    <tr>\n",
       "      <th>0.35</th>\n",
       "      <td>1.6065</td>\n",
       "      <td>3150.0</td>\n",
       "      <td>0.238221</td>\n",
       "    </tr>\n",
       "    <tr>\n",
       "      <th>0.40</th>\n",
       "      <td>1.8360</td>\n",
       "      <td>3600.0</td>\n",
       "      <td>0.272252</td>\n",
       "    </tr>\n",
       "    <tr>\n",
       "      <th>0.45</th>\n",
       "      <td>2.0655</td>\n",
       "      <td>4050.0</td>\n",
       "      <td>0.306284</td>\n",
       "    </tr>\n",
       "    <tr>\n",
       "      <th>0.50</th>\n",
       "      <td>2.2950</td>\n",
       "      <td>4500.0</td>\n",
       "      <td>0.340315</td>\n",
       "    </tr>\n",
       "    <tr>\n",
       "      <th>0.55</th>\n",
       "      <td>2.5245</td>\n",
       "      <td>4950.0</td>\n",
       "      <td>0.374347</td>\n",
       "    </tr>\n",
       "    <tr>\n",
       "      <th>0.60</th>\n",
       "      <td>2.7540</td>\n",
       "      <td>5400.0</td>\n",
       "      <td>0.408378</td>\n",
       "    </tr>\n",
       "    <tr>\n",
       "      <th>0.65</th>\n",
       "      <td>2.9835</td>\n",
       "      <td>5850.0</td>\n",
       "      <td>0.442410</td>\n",
       "    </tr>\n",
       "    <tr>\n",
       "      <th>0.70</th>\n",
       "      <td>3.2130</td>\n",
       "      <td>6300.0</td>\n",
       "      <td>0.476441</td>\n",
       "    </tr>\n",
       "    <tr>\n",
       "      <th>0.75</th>\n",
       "      <td>3.4425</td>\n",
       "      <td>6750.0</td>\n",
       "      <td>0.510473</td>\n",
       "    </tr>\n",
       "    <tr>\n",
       "      <th>0.80</th>\n",
       "      <td>3.6720</td>\n",
       "      <td>7200.0</td>\n",
       "      <td>0.544504</td>\n",
       "    </tr>\n",
       "  </tbody>\n",
       "</table>\n",
       "</div>"
      ],
      "text/plain": [
       "              capacity    cost     power\n",
       "installation                            \n",
       "0.05            0.2295   450.0  0.034032\n",
       "0.10            0.4590   900.0  0.068063\n",
       "0.15            0.6885  1350.0  0.102095\n",
       "0.20            0.9180  1800.0  0.136126\n",
       "0.25            1.1475  2250.0  0.170158\n",
       "0.30            1.3770  2700.0  0.204189\n",
       "0.35            1.6065  3150.0  0.238221\n",
       "0.40            1.8360  3600.0  0.272252\n",
       "0.45            2.0655  4050.0  0.306284\n",
       "0.50            2.2950  4500.0  0.340315\n",
       "0.55            2.5245  4950.0  0.374347\n",
       "0.60            2.7540  5400.0  0.408378\n",
       "0.65            2.9835  5850.0  0.442410\n",
       "0.70            3.2130  6300.0  0.476441\n",
       "0.75            3.4425  6750.0  0.510473\n",
       "0.80            3.6720  7200.0  0.544504"
      ]
     },
     "execution_count": 30,
     "metadata": {},
     "output_type": "execute_result"
    }
   ],
   "source": [
    "solar_df = pd.DataFrame()\n",
    "solar_df['capacity'] = installCapacity\n",
    "solar_df['cost'] = installCost\n",
    "solar_df['power'] = installPower\n",
    "solar_df['installation'] = installationFinal\n",
    "solar_df = solar_df.set_index('installation')\n",
    "solar_df"
   ]
  },
  {
   "cell_type": "markdown",
   "metadata": {},
   "source": [
    "# (D) Savings and break-even time"
   ]
  },
  {
   "cell_type": "code",
   "execution_count": 31,
   "metadata": {
    "collapsed": true
   },
   "outputs": [],
   "source": [
    "def get_new_bill(bill, power):\n",
    "    avgEnergyUsed = bill / elecTarrif\n",
    "    avgEnergyUsed_daytime = avgEnergyUsed / 2\n",
    "    nightUsage = avgEnergyUsed / 2\n",
    "\n",
    "    avgEnergyProduced = power * hours * days\n",
    "    \n",
    "    newBill = np.empty(len(power))\n",
    "    newUsageFromUtility = np.empty(len(power))\n",
    "    for i in range(len(power)):\n",
    "        dayUsage = max(0, avgEnergyUsed_daytime - avgEnergyProduced[i])\n",
    "        newUsageFromUtility[i] = dayUsage + nightUsage\n",
    "        newBill[i] = newUsageFromUtility[i] * elecTarrif\n",
    "\n",
    "    return newBill, newUsageFromUtility"
   ]
  },
  {
   "cell_type": "code",
   "execution_count": 32,
   "metadata": {
    "collapsed": false
   },
   "outputs": [],
   "source": [
    "newBill, newUsage = get_new_bill(averageElectricityBill, installPower)"
   ]
  },
  {
   "cell_type": "code",
   "execution_count": 33,
   "metadata": {
    "collapsed": false
   },
   "outputs": [],
   "source": [
    "totalYears = 25\n",
    "monthsInAYear = 12\n",
    "def get_cummulative_savings(oldBill, newBill, cost):\n",
    "    months = range(1, totalYears*monthsInAYear + 1)\n",
    "    savings = np.empty((len(newBill), len(months)))\n",
    "    for i in range(len(newBill)):\n",
    "        eachMonth = oldBill - newBill[i]\n",
    "        savings[i,:] = eachMonth*months - cost[i]\n",
    "    return savings"
   ]
  },
  {
   "cell_type": "code",
   "execution_count": 34,
   "metadata": {
    "collapsed": false
   },
   "outputs": [],
   "source": [
    "savings = get_cummulative_savings(averageElectricityBill, newBill, installCost)"
   ]
  },
  {
   "cell_type": "code",
   "execution_count": 35,
   "metadata": {
    "collapsed": false
   },
   "outputs": [],
   "source": [
    "finalSavings = savings[:,-1]"
   ]
  },
  {
   "cell_type": "code",
   "execution_count": 36,
   "metadata": {
    "collapsed": true
   },
   "outputs": [],
   "source": [
    "def get_break_even_time(savings):\n",
    "    nInstalls = savings.shape[0]\n",
    "    breakEven = np.empty(nInstalls)\n",
    "    for i in range(nInstalls):\n",
    "        breakEven[i] = np.argmax(savings[i,:] > 0)\n",
    "\n",
    "    return breakEven"
   ]
  },
  {
   "cell_type": "code",
   "execution_count": 37,
   "metadata": {
    "collapsed": false
   },
   "outputs": [],
   "source": [
    "breakEven = get_break_even_time(savings)/12"
   ]
  },
  {
   "cell_type": "markdown",
   "metadata": {},
   "source": [
    "### Prettify Result"
   ]
  },
  {
   "cell_type": "code",
   "execution_count": 38,
   "metadata": {
    "collapsed": false
   },
   "outputs": [
    {
     "data": {
      "text/plain": [
       "array([ 75.09946122,  70.19892244,  65.29838366,  60.39784488,\n",
       "        55.49730611,  50.59676733,  45.69622855,  40.79568977,\n",
       "        40.        ,  40.        ,  40.        ,  40.        ,\n",
       "        40.        ,  40.        ,  40.        ,  40.        ])"
      ]
     },
     "execution_count": 38,
     "metadata": {},
     "output_type": "execute_result"
    }
   ],
   "source": [
    "newBill"
   ]
  },
  {
   "cell_type": "code",
   "execution_count": 39,
   "metadata": {
    "collapsed": false
   },
   "outputs": [
    {
     "data": {
      "text/html": [
       "<div>\n",
       "<table border=\"1\" class=\"dataframe\">\n",
       "  <thead>\n",
       "    <tr style=\"text-align: right;\">\n",
       "      <th></th>\n",
       "      <th>capacity</th>\n",
       "      <th>cost</th>\n",
       "      <th>power</th>\n",
       "      <th>breakEvenYears</th>\n",
       "      <th>savings_after_25yrs</th>\n",
       "      <th>annual_savings</th>\n",
       "    </tr>\n",
       "    <tr>\n",
       "      <th>installation</th>\n",
       "      <th></th>\n",
       "      <th></th>\n",
       "      <th></th>\n",
       "      <th></th>\n",
       "      <th></th>\n",
       "      <th></th>\n",
       "    </tr>\n",
       "  </thead>\n",
       "  <tbody>\n",
       "    <tr>\n",
       "      <th>0.05</th>\n",
       "      <td>0.2295</td>\n",
       "      <td>450.0</td>\n",
       "      <td>0.034032</td>\n",
       "      <td>7.583333</td>\n",
       "      <td>1020.161634</td>\n",
       "      <td>40.806465</td>\n",
       "    </tr>\n",
       "    <tr>\n",
       "      <th>0.10</th>\n",
       "      <td>0.4590</td>\n",
       "      <td>900.0</td>\n",
       "      <td>0.068063</td>\n",
       "      <td>7.583333</td>\n",
       "      <td>2040.323267</td>\n",
       "      <td>81.612931</td>\n",
       "    </tr>\n",
       "    <tr>\n",
       "      <th>0.15</th>\n",
       "      <td>0.6885</td>\n",
       "      <td>1350.0</td>\n",
       "      <td>0.102095</td>\n",
       "      <td>7.583333</td>\n",
       "      <td>3060.484901</td>\n",
       "      <td>122.419396</td>\n",
       "    </tr>\n",
       "    <tr>\n",
       "      <th>0.20</th>\n",
       "      <td>0.9180</td>\n",
       "      <td>1800.0</td>\n",
       "      <td>0.136126</td>\n",
       "      <td>7.583333</td>\n",
       "      <td>4080.646535</td>\n",
       "      <td>163.225861</td>\n",
       "    </tr>\n",
       "    <tr>\n",
       "      <th>0.25</th>\n",
       "      <td>1.1475</td>\n",
       "      <td>2250.0</td>\n",
       "      <td>0.170158</td>\n",
       "      <td>7.583333</td>\n",
       "      <td>5100.808168</td>\n",
       "      <td>204.032327</td>\n",
       "    </tr>\n",
       "    <tr>\n",
       "      <th>0.30</th>\n",
       "      <td>1.3770</td>\n",
       "      <td>2700.0</td>\n",
       "      <td>0.204189</td>\n",
       "      <td>7.583333</td>\n",
       "      <td>6120.969802</td>\n",
       "      <td>244.838792</td>\n",
       "    </tr>\n",
       "    <tr>\n",
       "      <th>0.35</th>\n",
       "      <td>1.6065</td>\n",
       "      <td>3150.0</td>\n",
       "      <td>0.238221</td>\n",
       "      <td>7.583333</td>\n",
       "      <td>7141.131436</td>\n",
       "      <td>285.645257</td>\n",
       "    </tr>\n",
       "    <tr>\n",
       "      <th>0.40</th>\n",
       "      <td>1.8360</td>\n",
       "      <td>3600.0</td>\n",
       "      <td>0.272252</td>\n",
       "      <td>7.583333</td>\n",
       "      <td>8161.293069</td>\n",
       "      <td>326.451723</td>\n",
       "    </tr>\n",
       "    <tr>\n",
       "      <th>0.45</th>\n",
       "      <td>2.0655</td>\n",
       "      <td>4050.0</td>\n",
       "      <td>0.306284</td>\n",
       "      <td>8.416667</td>\n",
       "      <td>7950.000000</td>\n",
       "      <td>318.000000</td>\n",
       "    </tr>\n",
       "    <tr>\n",
       "      <th>0.50</th>\n",
       "      <td>2.2950</td>\n",
       "      <td>4500.0</td>\n",
       "      <td>0.340315</td>\n",
       "      <td>9.333333</td>\n",
       "      <td>7500.000000</td>\n",
       "      <td>300.000000</td>\n",
       "    </tr>\n",
       "    <tr>\n",
       "      <th>0.55</th>\n",
       "      <td>2.5245</td>\n",
       "      <td>4950.0</td>\n",
       "      <td>0.374347</td>\n",
       "      <td>10.250000</td>\n",
       "      <td>7050.000000</td>\n",
       "      <td>282.000000</td>\n",
       "    </tr>\n",
       "    <tr>\n",
       "      <th>0.60</th>\n",
       "      <td>2.7540</td>\n",
       "      <td>5400.0</td>\n",
       "      <td>0.408378</td>\n",
       "      <td>11.166667</td>\n",
       "      <td>6600.000000</td>\n",
       "      <td>264.000000</td>\n",
       "    </tr>\n",
       "    <tr>\n",
       "      <th>0.65</th>\n",
       "      <td>2.9835</td>\n",
       "      <td>5850.0</td>\n",
       "      <td>0.442410</td>\n",
       "      <td>12.166667</td>\n",
       "      <td>6150.000000</td>\n",
       "      <td>246.000000</td>\n",
       "    </tr>\n",
       "    <tr>\n",
       "      <th>0.70</th>\n",
       "      <td>3.2130</td>\n",
       "      <td>6300.0</td>\n",
       "      <td>0.476441</td>\n",
       "      <td>13.083333</td>\n",
       "      <td>5700.000000</td>\n",
       "      <td>228.000000</td>\n",
       "    </tr>\n",
       "    <tr>\n",
       "      <th>0.75</th>\n",
       "      <td>3.4425</td>\n",
       "      <td>6750.0</td>\n",
       "      <td>0.510473</td>\n",
       "      <td>14.000000</td>\n",
       "      <td>5250.000000</td>\n",
       "      <td>210.000000</td>\n",
       "    </tr>\n",
       "    <tr>\n",
       "      <th>0.80</th>\n",
       "      <td>3.6720</td>\n",
       "      <td>7200.0</td>\n",
       "      <td>0.544504</td>\n",
       "      <td>15.000000</td>\n",
       "      <td>4800.000000</td>\n",
       "      <td>192.000000</td>\n",
       "    </tr>\n",
       "  </tbody>\n",
       "</table>\n",
       "</div>"
      ],
      "text/plain": [
       "              capacity    cost     power  breakEvenYears  savings_after_25yrs  \\\n",
       "installation                                                                    \n",
       "0.05            0.2295   450.0  0.034032        7.583333          1020.161634   \n",
       "0.10            0.4590   900.0  0.068063        7.583333          2040.323267   \n",
       "0.15            0.6885  1350.0  0.102095        7.583333          3060.484901   \n",
       "0.20            0.9180  1800.0  0.136126        7.583333          4080.646535   \n",
       "0.25            1.1475  2250.0  0.170158        7.583333          5100.808168   \n",
       "0.30            1.3770  2700.0  0.204189        7.583333          6120.969802   \n",
       "0.35            1.6065  3150.0  0.238221        7.583333          7141.131436   \n",
       "0.40            1.8360  3600.0  0.272252        7.583333          8161.293069   \n",
       "0.45            2.0655  4050.0  0.306284        8.416667          7950.000000   \n",
       "0.50            2.2950  4500.0  0.340315        9.333333          7500.000000   \n",
       "0.55            2.5245  4950.0  0.374347       10.250000          7050.000000   \n",
       "0.60            2.7540  5400.0  0.408378       11.166667          6600.000000   \n",
       "0.65            2.9835  5850.0  0.442410       12.166667          6150.000000   \n",
       "0.70            3.2130  6300.0  0.476441       13.083333          5700.000000   \n",
       "0.75            3.4425  6750.0  0.510473       14.000000          5250.000000   \n",
       "0.80            3.6720  7200.0  0.544504       15.000000          4800.000000   \n",
       "\n",
       "              annual_savings  \n",
       "installation                  \n",
       "0.05               40.806465  \n",
       "0.10               81.612931  \n",
       "0.15              122.419396  \n",
       "0.20              163.225861  \n",
       "0.25              204.032327  \n",
       "0.30              244.838792  \n",
       "0.35              285.645257  \n",
       "0.40              326.451723  \n",
       "0.45              318.000000  \n",
       "0.50              300.000000  \n",
       "0.55              282.000000  \n",
       "0.60              264.000000  \n",
       "0.65              246.000000  \n",
       "0.70              228.000000  \n",
       "0.75              210.000000  \n",
       "0.80              192.000000  "
      ]
     },
     "execution_count": 39,
     "metadata": {},
     "output_type": "execute_result"
    }
   ],
   "source": [
    "final_df = solar_df\n",
    "final_df['breakEvenYears'] = breakEven\n",
    "final_df['savings_after_25yrs'] = finalSavings\n",
    "final_df['annual_savings'] = finalSavings/totalYears\n",
    "final_df"
   ]
  },
  {
   "cell_type": "markdown",
   "metadata": {},
   "source": [
    "### Plot savings"
   ]
  },
  {
   "cell_type": "code",
   "execution_count": 40,
   "metadata": {
    "collapsed": false
   },
   "outputs": [
    {
     "data": {
      "image/png": "[encoded data removed]",
      "text/plain": [
       "<matplotlib.figure.Figure at 0x1182e9ef0>"
      ]
     },
     "metadata": {},
     "output_type": "display_data"
    }
   ],
   "source": [
    "for i in range(savings.shape[0]):\n",
    "    plt.plot(savings[i,:])"
   ]
  },
  {
   "cell_type": "code",
   "execution_count": null,
   "metadata": {
    "collapsed": true
   },
   "outputs": [],
   "source": []
  }
 ],
 "metadata": {
  "anaconda-cloud": {},
  "kernelspec": {
   "display_name": "Python [Root]",
   "language": "python",
   "name": "Python [Root]"
  },
  "language_info": {
   "codemirror_mode": {
    "name": "ipython",
    "version": 3
   },
   "file_extension": ".py",
   "mimetype": "text/x-python",
   "name": "python",
   "nbconvert_exporter": "python",
   "pygments_lexer": "ipython3",
   "version": "3.5.2"
  }
 },
 "nbformat": 4,
 "nbformat_minor": 0
}
