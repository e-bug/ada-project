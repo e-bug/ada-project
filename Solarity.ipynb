{
 "cells": [
  {
   "cell_type": "code",
   "execution_count": 2,
   "metadata": {
    "collapsed": false
   },
   "outputs": [],
   "source": [
    "%load_ext autoreload\n",
    "%autoreload 2"
   ]
  },
  {
   "cell_type": "code",
   "execution_count": 267,
   "metadata": {
    "collapsed": true
   },
   "outputs": [],
   "source": [
    "import pandas as pd\n",
    "import numpy as np\n",
    "import pickle\n",
    "import matplotlib.pyplot as plt\n",
    "\n",
    "%matplotlib inline"
   ]
  },
  {
   "cell_type": "markdown",
   "metadata": {},
   "source": [
    "# (A) Nearest Stations"
   ]
  },
  {
   "cell_type": "code",
   "execution_count": 6,
   "metadata": {
    "collapsed": false
   },
   "outputs": [
    {
     "name": "stdout",
     "output_type": "stream",
     "text": [
      "/Users/mohiuddi/Desktop/Courses/ADA/solarity/geocoding\n"
     ]
    }
   ],
   "source": [
    "cd geocoding/"
   ]
  },
  {
   "cell_type": "code",
   "execution_count": 7,
   "metadata": {
    "collapsed": false
   },
   "outputs": [],
   "source": [
    "import geocoding_functions as geo_fns\n",
    "import location_functions as loc_fns\n",
    "import station_info"
   ]
  },
  {
   "cell_type": "markdown",
   "metadata": {},
   "source": [
    "## User input"
   ]
  },
  {
   "cell_type": "code",
   "execution_count": 300,
   "metadata": {
    "collapsed": true
   },
   "outputs": [],
   "source": [
    "address = \"DubendorfStrasse 119, 8051 Zurich\""
   ]
  },
  {
   "cell_type": "markdown",
   "metadata": {},
   "source": [
    "## Parameters"
   ]
  },
  {
   "cell_type": "code",
   "execution_count": 301,
   "metadata": {
    "collapsed": true
   },
   "outputs": [],
   "source": [
    "k = 3 ##Number of nearest neighbours"
   ]
  },
  {
   "cell_type": "markdown",
   "metadata": {},
   "source": [
    "### Get coordinates of the address"
   ]
  },
  {
   "cell_type": "code",
   "execution_count": 302,
   "metadata": {
    "collapsed": false
   },
   "outputs": [],
   "source": [
    "coordinates = geo_fns.getCoordinates(address)\n",
    "if(coordinates is None):\n",
    "    print(\"*** Invalid Address ***\")\n",
    "    print(\"Sample address: Route Cantonale 33, 1025 St. Sulpice\")\n",
    "    exit(0)"
   ]
  },
  {
   "cell_type": "code",
   "execution_count": 303,
   "metadata": {
    "collapsed": false,
    "scrolled": true
   },
   "outputs": [
    {
     "data": {
      "text/plain": [
       "(47.4025356, 8.5791568)"
      ]
     },
     "execution_count": 303,
     "metadata": {},
     "output_type": "execute_result"
    }
   ],
   "source": [
    "coordinates"
   ]
  },
  {
   "cell_type": "markdown",
   "metadata": {},
   "source": [
    "### Read pickled station info"
   ]
  },
  {
   "cell_type": "code",
   "execution_count": 12,
   "metadata": {
    "collapsed": false
   },
   "outputs": [],
   "source": [
    "station_df = pickle.load(open(\"station_df.p\",\"rb\"))"
   ]
  },
  {
   "cell_type": "code",
   "execution_count": 13,
   "metadata": {
    "collapsed": false
   },
   "outputs": [
    {
     "data": {
      "text/html": [
       "<div>\n",
       "<table border=\"1\" class=\"dataframe\">\n",
       "  <thead>\n",
       "    <tr style=\"text-align: right;\">\n",
       "      <th></th>\n",
       "      <th>name</th>\n",
       "      <th>lat</th>\n",
       "      <th>lng</th>\n",
       "    </tr>\n",
       "  </thead>\n",
       "  <tbody>\n",
       "    <tr>\n",
       "      <th>0</th>\n",
       "      <td>VSVER</td>\n",
       "      <td>46.233333</td>\n",
       "      <td>7.550000</td>\n",
       "    </tr>\n",
       "    <tr>\n",
       "      <th>1</th>\n",
       "      <td>VSCOL</td>\n",
       "      <td>46.183333</td>\n",
       "      <td>7.383333</td>\n",
       "    </tr>\n",
       "    <tr>\n",
       "      <th>2</th>\n",
       "      <td>AIG</td>\n",
       "      <td>46.333333</td>\n",
       "      <td>6.916667</td>\n",
       "    </tr>\n",
       "    <tr>\n",
       "      <th>3</th>\n",
       "      <td>DEM</td>\n",
       "      <td>47.350000</td>\n",
       "      <td>7.350000</td>\n",
       "    </tr>\n",
       "    <tr>\n",
       "      <th>4</th>\n",
       "      <td>SRS</td>\n",
       "      <td>46.983333</td>\n",
       "      <td>9.666667</td>\n",
       "    </tr>\n",
       "  </tbody>\n",
       "</table>\n",
       "</div>"
      ],
      "text/plain": [
       "    name        lat       lng\n",
       "0  VSVER  46.233333  7.550000\n",
       "1  VSCOL  46.183333  7.383333\n",
       "2    AIG  46.333333  6.916667\n",
       "3    DEM  47.350000  7.350000\n",
       "4    SRS  46.983333  9.666667"
      ]
     },
     "execution_count": 13,
     "metadata": {},
     "output_type": "execute_result"
    }
   ],
   "source": [
    "station_df.head()"
   ]
  },
  {
   "cell_type": "markdown",
   "metadata": {},
   "source": [
    "### Get k nearest stations and their weights"
   ]
  },
  {
   "cell_type": "code",
   "execution_count": 14,
   "metadata": {
    "collapsed": false
   },
   "outputs": [],
   "source": [
    "neighbourNames = loc_fns.get_k_nearest_neighbours(coordinates, k, station_df)\n",
    "neighbourWeights = loc_fns.get_weights_for_k_nearest(coordinates, k, station_df)"
   ]
  },
  {
   "cell_type": "code",
   "execution_count": 17,
   "metadata": {
    "collapsed": false
   },
   "outputs": [
    {
     "name": "stdout",
     "output_type": "stream",
     "text": [
      "/Users/mohiuddi/Desktop/Courses/ADA/solarity\n"
     ]
    }
   ],
   "source": [
    "cd .."
   ]
  },
  {
   "cell_type": "markdown",
   "metadata": {},
   "source": [
    "# (B) Solar potential"
   ]
  },
  {
   "cell_type": "code",
   "execution_count": 304,
   "metadata": {
    "collapsed": true
   },
   "outputs": [],
   "source": [
    "means = pickle.load(open('learning/groupedStations.p', 'rb'))"
   ]
  },
  {
   "cell_type": "code",
   "execution_count": 305,
   "metadata": {
    "collapsed": false
   },
   "outputs": [],
   "source": [
    "def get_monthly_power_potential(stations, weights, means):\n",
    "    potential = 0\n",
    "    for i in range(len(stations)):\n",
    "        potential = potential + means.power[stations[i]].get_values()*weights[i]\n",
    "    return potential"
   ]
  },
  {
   "cell_type": "code",
   "execution_count": 306,
   "metadata": {
    "collapsed": true
   },
   "outputs": [],
   "source": [
    "monthly_potential = get_monthly_power_potential(neighbourNames.get_values(), neighbourWeights, means)"
   ]
  },
  {
   "cell_type": "code",
   "execution_count": 307,
   "metadata": {
    "collapsed": false
   },
   "outputs": [
    {
     "data": {
      "text/plain": [
       "0.13263507493695473"
      ]
     },
     "execution_count": 307,
     "metadata": {},
     "output_type": "execute_result"
    }
   ],
   "source": [
    "potential = np.mean(np.array(monthly_potential)) ## in Wp\n",
    "potential"
   ]
  },
  {
   "cell_type": "markdown",
   "metadata": {},
   "source": [
    "# (C) Installation Costs"
   ]
  },
  {
   "cell_type": "markdown",
   "metadata": {},
   "source": [
    "## User input"
   ]
  },
  {
   "cell_type": "code",
   "execution_count": 363,
   "metadata": {
    "collapsed": true
   },
   "outputs": [],
   "source": [
    "averageElectricityBill = np.array([80]) ## CHF\n",
    "roofArea = 30 ## m2"
   ]
  },
  {
   "cell_type": "markdown",
   "metadata": {},
   "source": [
    "## Parameters"
   ]
  },
  {
   "cell_type": "markdown",
   "metadata": {},
   "source": [
    "#### Electricity"
   ]
  },
  {
   "cell_type": "code",
   "execution_count": 343,
   "metadata": {
    "collapsed": true
   },
   "outputs": [],
   "source": [
    "elecTarrif = 0.20 ##CHF/Kwh"
   ]
  },
  {
   "cell_type": "markdown",
   "metadata": {},
   "source": [
    "#### Solar"
   ]
  },
  {
   "cell_type": "code",
   "execution_count": 344,
   "metadata": {
    "collapsed": true
   },
   "outputs": [],
   "source": [
    "capacityPerPanel = 255 ## Wp\n",
    "costPerPanel = 500 ## CHF\n",
    "panelArea = 1.62 ## m2"
   ]
  },
  {
   "cell_type": "markdown",
   "metadata": {},
   "source": [
    "## Average Consumption"
   ]
  },
  {
   "cell_type": "code",
   "execution_count": 345,
   "metadata": {
    "collapsed": true
   },
   "outputs": [],
   "source": [
    "hours = 24\n",
    "days = 30\n",
    "milli = 1000"
   ]
  },
  {
   "cell_type": "code",
   "execution_count": 346,
   "metadata": {
    "collapsed": false
   },
   "outputs": [
    {
     "data": {
      "text/plain": [
       "array([ 1500.])"
      ]
     },
     "execution_count": 346,
     "metadata": {},
     "output_type": "execute_result"
    }
   ],
   "source": [
    "avgEnergy = averageElectricityBill/elecTarrif\n",
    "avgEnergy"
   ]
  },
  {
   "cell_type": "code",
   "execution_count": 347,
   "metadata": {
    "collapsed": false
   },
   "outputs": [
    {
     "data": {
      "text/plain": [
       "array([ 2.08333333])"
      ]
     },
     "execution_count": 347,
     "metadata": {},
     "output_type": "execute_result"
    }
   ],
   "source": [
    "avgPower = avgEnergy/(hours*days) ## Kw\n",
    "avgPower"
   ]
  },
  {
   "cell_type": "markdown",
   "metadata": {},
   "source": [
    "## Solar Cost and Capacity"
   ]
  },
  {
   "cell_type": "code",
   "execution_count": 348,
   "metadata": {
    "collapsed": true
   },
   "outputs": [],
   "source": [
    "installation = np.array(range(5,101,5))/100"
   ]
  },
  {
   "cell_type": "code",
   "execution_count": 349,
   "metadata": {
    "collapsed": true
   },
   "outputs": [],
   "source": [
    "numPanels = np.floor(roofArea/panelArea)"
   ]
  },
  {
   "cell_type": "code",
   "execution_count": 350,
   "metadata": {
    "collapsed": true
   },
   "outputs": [],
   "source": [
    "capacity = installation*numPanels*capacityPerPanel/1000 ## Kwp\n",
    "cost = installation*numPanels*costPerPanel ## CHF\n",
    "solarPower = capacity*potential ## in Kw"
   ]
  },
  {
   "cell_type": "markdown",
   "metadata": {},
   "source": [
    "### Finding suitable installations"
   ]
  },
  {
   "cell_type": "code",
   "execution_count": 351,
   "metadata": {
    "collapsed": false
   },
   "outputs": [],
   "source": [
    "indx = solarPower <= avgPower ## Should this be 1 or what?\n",
    "installationFinal = installation[indx]\n",
    "installCapacity = capacity[indx]\n",
    "installCost = cost[indx]\n",
    "installPower = solarPower[indx]"
   ]
  },
  {
   "cell_type": "code",
   "execution_count": 352,
   "metadata": {
    "collapsed": false
   },
   "outputs": [
    {
     "data": {
      "text/html": [
       "<div>\n",
       "<table border=\"1\" class=\"dataframe\">\n",
       "  <thead>\n",
       "    <tr style=\"text-align: right;\">\n",
       "      <th></th>\n",
       "      <th>capacity</th>\n",
       "      <th>cost</th>\n",
       "      <th>power</th>\n",
       "    </tr>\n",
       "    <tr>\n",
       "      <th>installation</th>\n",
       "      <th></th>\n",
       "      <th></th>\n",
       "      <th></th>\n",
       "    </tr>\n",
       "  </thead>\n",
       "  <tbody>\n",
       "    <tr>\n",
       "      <th>0.05</th>\n",
       "      <td>1.41525</td>\n",
       "      <td>2775.0</td>\n",
       "      <td>0.187712</td>\n",
       "    </tr>\n",
       "    <tr>\n",
       "      <th>0.10</th>\n",
       "      <td>2.83050</td>\n",
       "      <td>5550.0</td>\n",
       "      <td>0.375424</td>\n",
       "    </tr>\n",
       "    <tr>\n",
       "      <th>0.15</th>\n",
       "      <td>4.24575</td>\n",
       "      <td>8325.0</td>\n",
       "      <td>0.563135</td>\n",
       "    </tr>\n",
       "    <tr>\n",
       "      <th>0.20</th>\n",
       "      <td>5.66100</td>\n",
       "      <td>11100.0</td>\n",
       "      <td>0.750847</td>\n",
       "    </tr>\n",
       "    <tr>\n",
       "      <th>0.25</th>\n",
       "      <td>7.07625</td>\n",
       "      <td>13875.0</td>\n",
       "      <td>0.938559</td>\n",
       "    </tr>\n",
       "    <tr>\n",
       "      <th>0.30</th>\n",
       "      <td>8.49150</td>\n",
       "      <td>16650.0</td>\n",
       "      <td>1.126271</td>\n",
       "    </tr>\n",
       "    <tr>\n",
       "      <th>0.35</th>\n",
       "      <td>9.90675</td>\n",
       "      <td>19425.0</td>\n",
       "      <td>1.313983</td>\n",
       "    </tr>\n",
       "    <tr>\n",
       "      <th>0.40</th>\n",
       "      <td>11.32200</td>\n",
       "      <td>22200.0</td>\n",
       "      <td>1.501694</td>\n",
       "    </tr>\n",
       "    <tr>\n",
       "      <th>0.45</th>\n",
       "      <td>12.73725</td>\n",
       "      <td>24975.0</td>\n",
       "      <td>1.689406</td>\n",
       "    </tr>\n",
       "    <tr>\n",
       "      <th>0.50</th>\n",
       "      <td>14.15250</td>\n",
       "      <td>27750.0</td>\n",
       "      <td>1.877118</td>\n",
       "    </tr>\n",
       "    <tr>\n",
       "      <th>0.55</th>\n",
       "      <td>15.56775</td>\n",
       "      <td>30525.0</td>\n",
       "      <td>2.064830</td>\n",
       "    </tr>\n",
       "  </tbody>\n",
       "</table>\n",
       "</div>"
      ],
      "text/plain": [
       "              capacity     cost     power\n",
       "installation                             \n",
       "0.05           1.41525   2775.0  0.187712\n",
       "0.10           2.83050   5550.0  0.375424\n",
       "0.15           4.24575   8325.0  0.563135\n",
       "0.20           5.66100  11100.0  0.750847\n",
       "0.25           7.07625  13875.0  0.938559\n",
       "0.30           8.49150  16650.0  1.126271\n",
       "0.35           9.90675  19425.0  1.313983\n",
       "0.40          11.32200  22200.0  1.501694\n",
       "0.45          12.73725  24975.0  1.689406\n",
       "0.50          14.15250  27750.0  1.877118\n",
       "0.55          15.56775  30525.0  2.064830"
      ]
     },
     "execution_count": 352,
     "metadata": {},
     "output_type": "execute_result"
    }
   ],
   "source": [
    "solar_df = pd.DataFrame()\n",
    "solar_df['capacity'] = installCapacity\n",
    "solar_df['cost'] = installCost\n",
    "solar_df['power'] = installPower\n",
    "solar_df['installation'] = installationFinal\n",
    "solar_df = solar_df.set_index('installation')\n",
    "solar_df"
   ]
  },
  {
   "cell_type": "markdown",
   "metadata": {},
   "source": [
    "# (D) Savings and break-even time"
   ]
  },
  {
   "cell_type": "code",
   "execution_count": 353,
   "metadata": {
    "collapsed": true
   },
   "outputs": [],
   "source": [
    "def get_new_bill(bill, power):\n",
    "    avgEnergyUsed = bill/elecTarrif\n",
    "    avgEnergyUsed_daytime = avgEnergyUsed/2\n",
    "    nightUsage = avgEnergyUsed/2\n",
    "\n",
    "    avgEnergyProduced = power*hours*days\n",
    "    \n",
    "    newBill = np.empty(len(power))\n",
    "    newUsageFromUtility = np.empty(len(power))\n",
    "    for i in range(len(power)):\n",
    "        dayUsage = max(0, avgEnergyUsed_daytime - avgEnergyProduced[i])\n",
    "        newUsageFromUtility[i] = dayUsage + nightUsage\n",
    "        newBill[i] = newUsageFromUtility[i]*elecTarrif\n",
    "\n",
    "    return newBill, newUsageFromUtility"
   ]
  },
  {
   "cell_type": "code",
   "execution_count": 354,
   "metadata": {
    "collapsed": false
   },
   "outputs": [],
   "source": [
    "newBill, newUsage = get_new_bill(averageElectricityBill, installPower)"
   ]
  },
  {
   "cell_type": "code",
   "execution_count": 355,
   "metadata": {
    "collapsed": false
   },
   "outputs": [],
   "source": [
    "totalYears = 25\n",
    "monthsInAYear = 12\n",
    "def get_cummulative_savings(oldBill, newBill, cost):\n",
    "    months = range(1, totalYears*monthsInAYear + 1)\n",
    "    savings = np.empty((len(newBill), len(months)))\n",
    "    for i in range(len(newBill)):\n",
    "        eachMonth = oldBill - newBill[i]\n",
    "        savings[i,:] = eachMonth*months - cost[i]\n",
    "    return savings"
   ]
  },
  {
   "cell_type": "code",
   "execution_count": 356,
   "metadata": {
    "collapsed": false
   },
   "outputs": [],
   "source": [
    "savings = get_cummulative_savings(averageElectricityBill, newBill, installCost)"
   ]
  },
  {
   "cell_type": "code",
   "execution_count": 357,
   "metadata": {
    "collapsed": false
   },
   "outputs": [],
   "source": [
    "finalSavings = savings[:,-1]"
   ]
  },
  {
   "cell_type": "code",
   "execution_count": 358,
   "metadata": {
    "collapsed": true
   },
   "outputs": [],
   "source": [
    "def get_break_even_time(savings):\n",
    "    nInstalls = savings.shape[0]\n",
    "    breakEven = np.empty(nInstalls)\n",
    "    for i in range(nInstalls):\n",
    "        breakEven[i] = np.argmax(savings[i,:] > 0)\n",
    "\n",
    "    return breakEven"
   ]
  },
  {
   "cell_type": "code",
   "execution_count": 359,
   "metadata": {
    "collapsed": false
   },
   "outputs": [],
   "source": [
    "breakEven = get_break_even_time(savings)/12"
   ]
  },
  {
   "cell_type": "markdown",
   "metadata": {},
   "source": [
    "### Prettify Result"
   ]
  },
  {
   "cell_type": "code",
   "execution_count": 360,
   "metadata": {
    "collapsed": false
   },
   "outputs": [
    {
     "data": {
      "text/plain": [
       "array([ 272.96950227,  245.93900454,  218.9085068 ,  191.87800907,\n",
       "        164.84751134,  150.        ,  150.        ,  150.        ,\n",
       "        150.        ,  150.        ,  150.        ])"
      ]
     },
     "execution_count": 360,
     "metadata": {},
     "output_type": "execute_result"
    }
   ],
   "source": [
    "newBill"
   ]
  },
  {
   "cell_type": "code",
   "execution_count": 361,
   "metadata": {
    "collapsed": false
   },
   "outputs": [
    {
     "data": {
      "text/html": [
       "<div>\n",
       "<table border=\"1\" class=\"dataframe\">\n",
       "  <thead>\n",
       "    <tr style=\"text-align: right;\">\n",
       "      <th></th>\n",
       "      <th>capacity</th>\n",
       "      <th>cost</th>\n",
       "      <th>power</th>\n",
       "      <th>breakEvenYears</th>\n",
       "      <th>savings_after_25yrs</th>\n",
       "      <th>annual_savings</th>\n",
       "    </tr>\n",
       "    <tr>\n",
       "      <th>installation</th>\n",
       "      <th></th>\n",
       "      <th></th>\n",
       "      <th></th>\n",
       "      <th></th>\n",
       "      <th></th>\n",
       "      <th></th>\n",
       "    </tr>\n",
       "  </thead>\n",
       "  <tbody>\n",
       "    <tr>\n",
       "      <th>0.05</th>\n",
       "      <td>1.41525</td>\n",
       "      <td>2775.0</td>\n",
       "      <td>0.187712</td>\n",
       "      <td>8.500000</td>\n",
       "      <td>5334.149320</td>\n",
       "      <td>213.365973</td>\n",
       "    </tr>\n",
       "    <tr>\n",
       "      <th>0.10</th>\n",
       "      <td>2.83050</td>\n",
       "      <td>5550.0</td>\n",
       "      <td>0.375424</td>\n",
       "      <td>8.500000</td>\n",
       "      <td>10668.298639</td>\n",
       "      <td>426.731946</td>\n",
       "    </tr>\n",
       "    <tr>\n",
       "      <th>0.15</th>\n",
       "      <td>4.24575</td>\n",
       "      <td>8325.0</td>\n",
       "      <td>0.563135</td>\n",
       "      <td>8.500000</td>\n",
       "      <td>16002.447959</td>\n",
       "      <td>640.097918</td>\n",
       "    </tr>\n",
       "    <tr>\n",
       "      <th>0.20</th>\n",
       "      <td>5.66100</td>\n",
       "      <td>11100.0</td>\n",
       "      <td>0.750847</td>\n",
       "      <td>8.500000</td>\n",
       "      <td>21336.597278</td>\n",
       "      <td>853.463891</td>\n",
       "    </tr>\n",
       "    <tr>\n",
       "      <th>0.25</th>\n",
       "      <td>7.07625</td>\n",
       "      <td>13875.0</td>\n",
       "      <td>0.938559</td>\n",
       "      <td>8.500000</td>\n",
       "      <td>26670.746598</td>\n",
       "      <td>1066.829864</td>\n",
       "    </tr>\n",
       "    <tr>\n",
       "      <th>0.30</th>\n",
       "      <td>8.49150</td>\n",
       "      <td>16650.0</td>\n",
       "      <td>1.126271</td>\n",
       "      <td>9.250000</td>\n",
       "      <td>28350.000000</td>\n",
       "      <td>1134.000000</td>\n",
       "    </tr>\n",
       "    <tr>\n",
       "      <th>0.35</th>\n",
       "      <td>9.90675</td>\n",
       "      <td>19425.0</td>\n",
       "      <td>1.313983</td>\n",
       "      <td>10.750000</td>\n",
       "      <td>25575.000000</td>\n",
       "      <td>1023.000000</td>\n",
       "    </tr>\n",
       "    <tr>\n",
       "      <th>0.40</th>\n",
       "      <td>11.32200</td>\n",
       "      <td>22200.0</td>\n",
       "      <td>1.501694</td>\n",
       "      <td>12.333333</td>\n",
       "      <td>22800.000000</td>\n",
       "      <td>912.000000</td>\n",
       "    </tr>\n",
       "    <tr>\n",
       "      <th>0.45</th>\n",
       "      <td>12.73725</td>\n",
       "      <td>24975.0</td>\n",
       "      <td>1.689406</td>\n",
       "      <td>13.833333</td>\n",
       "      <td>20025.000000</td>\n",
       "      <td>801.000000</td>\n",
       "    </tr>\n",
       "    <tr>\n",
       "      <th>0.50</th>\n",
       "      <td>14.15250</td>\n",
       "      <td>27750.0</td>\n",
       "      <td>1.877118</td>\n",
       "      <td>15.416667</td>\n",
       "      <td>17250.000000</td>\n",
       "      <td>690.000000</td>\n",
       "    </tr>\n",
       "    <tr>\n",
       "      <th>0.55</th>\n",
       "      <td>15.56775</td>\n",
       "      <td>30525.0</td>\n",
       "      <td>2.064830</td>\n",
       "      <td>16.916667</td>\n",
       "      <td>14475.000000</td>\n",
       "      <td>579.000000</td>\n",
       "    </tr>\n",
       "  </tbody>\n",
       "</table>\n",
       "</div>"
      ],
      "text/plain": [
       "              capacity     cost     power  breakEvenYears  \\\n",
       "installation                                                \n",
       "0.05           1.41525   2775.0  0.187712        8.500000   \n",
       "0.10           2.83050   5550.0  0.375424        8.500000   \n",
       "0.15           4.24575   8325.0  0.563135        8.500000   \n",
       "0.20           5.66100  11100.0  0.750847        8.500000   \n",
       "0.25           7.07625  13875.0  0.938559        8.500000   \n",
       "0.30           8.49150  16650.0  1.126271        9.250000   \n",
       "0.35           9.90675  19425.0  1.313983       10.750000   \n",
       "0.40          11.32200  22200.0  1.501694       12.333333   \n",
       "0.45          12.73725  24975.0  1.689406       13.833333   \n",
       "0.50          14.15250  27750.0  1.877118       15.416667   \n",
       "0.55          15.56775  30525.0  2.064830       16.916667   \n",
       "\n",
       "              savings_after_25yrs  annual_savings  \n",
       "installation                                       \n",
       "0.05                  5334.149320      213.365973  \n",
       "0.10                 10668.298639      426.731946  \n",
       "0.15                 16002.447959      640.097918  \n",
       "0.20                 21336.597278      853.463891  \n",
       "0.25                 26670.746598     1066.829864  \n",
       "0.30                 28350.000000     1134.000000  \n",
       "0.35                 25575.000000     1023.000000  \n",
       "0.40                 22800.000000      912.000000  \n",
       "0.45                 20025.000000      801.000000  \n",
       "0.50                 17250.000000      690.000000  \n",
       "0.55                 14475.000000      579.000000  "
      ]
     },
     "execution_count": 361,
     "metadata": {},
     "output_type": "execute_result"
    }
   ],
   "source": [
    "final_df = solar_df\n",
    "final_df['breakEvenYears'] = breakEven\n",
    "final_df['savings_after_25yrs'] = finalSavings\n",
    "final_df['annual_savings'] = finalSavings/totalYears\n",
    "final_df"
   ]
  },
  {
   "cell_type": "markdown",
   "metadata": {},
   "source": [
    "### Plot savings"
   ]
  },
  {
   "cell_type": "code",
   "execution_count": 362,
   "metadata": {
    "collapsed": false
   },
   "outputs": [
    {
     "data": {
      "image/png": "[encoded data removed]",
      "text/plain": [
       "<matplotlib.figure.Figure at 0x11e215ef0>"
      ]
     },
     "metadata": {},
     "output_type": "display_data"
    }
   ],
   "source": [
    "for i in range(savings.shape[0]):\n",
    "    plt.plot(savings[i,:])"
   ]
  }
 ],
 "metadata": {
  "kernelspec": {
   "display_name": "Python [Root]",
   "language": "python",
   "name": "Python [Root]"
  },
  "language_info": {
   "codemirror_mode": {
    "name": "ipython",
    "version": 3
   },
   "file_extension": ".py",
   "mimetype": "text/x-python",
   "name": "python",
   "nbconvert_exporter": "python",
   "pygments_lexer": "ipython3",
   "version": "3.5.2"
  }
 },
 "nbformat": 4,
 "nbformat_minor": 0
}
