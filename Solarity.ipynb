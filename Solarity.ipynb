{
 "cells": [
  {
   "cell_type": "code",
   "execution_count": 1,
   "metadata": {
    "collapsed": true
   },
   "outputs": [],
   "source": [
    "import pandas as pd\n",
    "import numpy as np\n",
    "import pickle\n",
    "\n",
    "import matplotlib.pyplot as plt\n",
    "%matplotlib inline"
   ]
  },
  {
   "cell_type": "markdown",
   "metadata": {},
   "source": [
    "In this module, we show the entire pipeline to estimate the solar power production according to the user's location, roof area and monthly electricity bill. <br>\n",
    "In doing so, we make use of the results developed in the different modules of the project. <br>\n",
    "These are basically the same steps executed by the website when it is queried."
   ]
  },
  {
   "cell_type": "markdown",
   "metadata": {},
   "source": [
    "# Nearest Stations"
   ]
  },
  {
   "cell_type": "markdown",
   "metadata": {},
   "source": [
    "Firstly, we import the libraries of the `geocoding module` in order get the _k_ closest stations to the user's location."
   ]
  },
  {
   "cell_type": "code",
   "execution_count": 2,
   "metadata": {
    "collapsed": false
   },
   "outputs": [
    {
     "name": "stdout",
     "output_type": "stream",
     "text": [
      "/home/ema/Dropbox/ada/solarity/geocoding\n"
     ]
    }
   ],
   "source": [
    "cd geocoding/"
   ]
  },
  {
   "cell_type": "code",
   "execution_count": 3,
   "metadata": {
    "collapsed": false
   },
   "outputs": [],
   "source": [
    "import geocoding_functions as geo_fns\n",
    "import location_functions as loc_fns\n",
    "import station_info"
   ]
  },
  {
   "cell_type": "markdown",
   "metadata": {},
   "source": [
    "## Parameters"
   ]
  },
  {
   "cell_type": "markdown",
   "metadata": {},
   "source": [
    "We will consider the power production of a given address as being affected by its _k = 4_ cloest weather stations, proportionally to their relative distances."
   ]
  },
  {
   "cell_type": "code",
   "execution_count": 4,
   "metadata": {
    "collapsed": true
   },
   "outputs": [],
   "source": [
    "k = 4 # Number of nearest neighbouring stations"
   ]
  },
  {
   "cell_type": "markdown",
   "metadata": {},
   "source": [
    "## User input"
   ]
  },
  {
   "cell_type": "code",
   "execution_count": 5,
   "metadata": {
    "collapsed": true
   },
   "outputs": [],
   "source": [
    "address = \"Rämistrasse 101, 8092 Zürich\""
   ]
  },
  {
   "cell_type": "markdown",
   "metadata": {},
   "source": [
    "### Get coordinates of the address"
   ]
  },
  {
   "cell_type": "code",
   "execution_count": 6,
   "metadata": {
    "collapsed": false
   },
   "outputs": [],
   "source": [
    "coordinates = geo_fns.getCoordinates(address)\n",
    "if(coordinates is None):\n",
    "    print(\"*** Invalid Address ***\")\n",
    "    print(\"Sample address: Route Cantonale 33, 1025 St. Sulpice\")\n",
    "    exit(0)"
   ]
  },
  {
   "cell_type": "code",
   "execution_count": 7,
   "metadata": {
    "collapsed": false,
    "scrolled": true
   },
   "outputs": [
    {
     "data": {
      "text/plain": [
       "(47.3765359, 8.5480928)"
      ]
     },
     "execution_count": 7,
     "metadata": {},
     "output_type": "execute_result"
    }
   ],
   "source": [
    "coordinates"
   ]
  },
  {
   "cell_type": "markdown",
   "metadata": {},
   "source": [
    "## Import weather stations"
   ]
  },
  {
   "cell_type": "markdown",
   "metadata": {},
   "source": [
    "We load the location of each weather station, stored in a pickle file."
   ]
  },
  {
   "cell_type": "code",
   "execution_count": 8,
   "metadata": {
    "collapsed": false
   },
   "outputs": [],
   "source": [
    "station_df = pickle.load(open(\"station_df.p\",\"rb\"))"
   ]
  },
  {
   "cell_type": "code",
   "execution_count": 9,
   "metadata": {
    "collapsed": false,
    "scrolled": true
   },
   "outputs": [
    {
     "data": {
      "text/plain": [
       "143"
      ]
     },
     "execution_count": 9,
     "metadata": {},
     "output_type": "execute_result"
    }
   ],
   "source": [
    "len(station_df)"
   ]
  },
  {
   "cell_type": "markdown",
   "metadata": {},
   "source": [
    "There is a total of 143 stations from MeteoSwiss."
   ]
  },
  {
   "cell_type": "code",
   "execution_count": 10,
   "metadata": {
    "collapsed": false
   },
   "outputs": [
    {
     "data": {
      "text/html": [
       "<div>\n",
       "<table border=\"1\" class=\"dataframe\">\n",
       "  <thead>\n",
       "    <tr style=\"text-align: right;\">\n",
       "      <th></th>\n",
       "      <th>name</th>\n",
       "      <th>lat</th>\n",
       "      <th>lng</th>\n",
       "    </tr>\n",
       "  </thead>\n",
       "  <tbody>\n",
       "    <tr>\n",
       "      <th>0</th>\n",
       "      <td>NAP</td>\n",
       "      <td>47.000000</td>\n",
       "      <td>7.933333</td>\n",
       "    </tr>\n",
       "    <tr>\n",
       "      <th>1</th>\n",
       "      <td>TAE</td>\n",
       "      <td>47.483333</td>\n",
       "      <td>8.900000</td>\n",
       "    </tr>\n",
       "    <tr>\n",
       "      <th>2</th>\n",
       "      <td>MTE</td>\n",
       "      <td>46.150000</td>\n",
       "      <td>7.616667</td>\n",
       "    </tr>\n",
       "    <tr>\n",
       "      <th>3</th>\n",
       "      <td>WSLNAF</td>\n",
       "      <td>46.666667</td>\n",
       "      <td>10.233333</td>\n",
       "    </tr>\n",
       "    <tr>\n",
       "      <th>4</th>\n",
       "      <td>UEB</td>\n",
       "      <td>47.350000</td>\n",
       "      <td>8.483333</td>\n",
       "    </tr>\n",
       "  </tbody>\n",
       "</table>\n",
       "</div>"
      ],
      "text/plain": [
       "     name        lat        lng\n",
       "0     NAP  47.000000   7.933333\n",
       "1     TAE  47.483333   8.900000\n",
       "2     MTE  46.150000   7.616667\n",
       "3  WSLNAF  46.666667  10.233333\n",
       "4     UEB  47.350000   8.483333"
      ]
     },
     "execution_count": 10,
     "metadata": {},
     "output_type": "execute_result"
    }
   ],
   "source": [
    "station_df.head()"
   ]
  },
  {
   "cell_type": "markdown",
   "metadata": {},
   "source": [
    "## Retrieve k nearest stations and their weights"
   ]
  },
  {
   "cell_type": "markdown",
   "metadata": {},
   "source": [
    "We now get which stations are the closest to the user's address and how much measurements in each of them influence the weather at the user's address."
   ]
  },
  {
   "cell_type": "code",
   "execution_count": 11,
   "metadata": {
    "collapsed": false
   },
   "outputs": [],
   "source": [
    "neighbourNames = loc_fns.get_k_nearest_neighbours(coordinates, k, station_df)\n",
    "neighbourWeights = loc_fns.get_weights_for_k_nearest(coordinates, k, station_df)"
   ]
  },
  {
   "cell_type": "code",
   "execution_count": 12,
   "metadata": {
    "collapsed": false
   },
   "outputs": [
    {
     "data": {
      "text/plain": [
       "96    SMA\n",
       "4     UEB\n",
       "36    REH\n",
       "47    KLO\n",
       "Name: name, dtype: object"
      ]
     },
     "execution_count": 12,
     "metadata": {},
     "output_type": "execute_result"
    }
   ],
   "source": [
    "neighbourNames"
   ]
  },
  {
   "cell_type": "code",
   "execution_count": 13,
   "metadata": {
    "collapsed": false
   },
   "outputs": [
    {
     "data": {
      "text/plain": [
       "array([ 0.6068449 ,  0.16922659,  0.14304639,  0.08088212])"
      ]
     },
     "execution_count": 13,
     "metadata": {},
     "output_type": "execute_result"
    }
   ],
   "source": [
    "neighbourWeights"
   ]
  },
  {
   "cell_type": "markdown",
   "metadata": {},
   "source": [
    "# Solar potential"
   ]
  },
  {
   "cell_type": "markdown",
   "metadata": {},
   "source": [
    "The solar potential of each stations has been precomputed. Now, we load it and extract the potential of the nearest stations. <br>\n",
    "We use the extracted solar potentials and weights of the stations to compute the net solar potential of the given address."
   ]
  },
  {
   "cell_type": "code",
   "execution_count": 14,
   "metadata": {
    "collapsed": false,
    "scrolled": true
   },
   "outputs": [
    {
     "name": "stdout",
     "output_type": "stream",
     "text": [
      "/home/ema/Dropbox/ada/solarity\n"
     ]
    }
   ],
   "source": [
    "cd .."
   ]
  },
  {
   "cell_type": "code",
   "execution_count": 15,
   "metadata": {
    "collapsed": false
   },
   "outputs": [],
   "source": [
    "means = pickle.load(open('learning/groupedStations.p', 'rb'))"
   ]
  },
  {
   "cell_type": "code",
   "execution_count": 16,
   "metadata": {
    "collapsed": true
   },
   "outputs": [],
   "source": [
    "def get_average_power_potential(stations, weights, means):\n",
    "    \"\"\"\n",
    "    Retrieve monthly average power potential for home according to weighted sum of potentials from closest stations.\n",
    "    :param stations: a pd.DataFrame with columns=[name, lat, lng]\n",
    "    :param weights: a sorted np.Array of distance weights associated to the k closest stations to house\n",
    "    :param means: a pd.DataFrame of average montly potential for each station\n",
    "    :return: monthly average power potential for home address\n",
    "    \"\"\"\n",
    "    potential = 0\n",
    "    for i in range(len(stations)):\n",
    "        potential += np.sum(means.power[stations[i]].get_values()) * \\\n",
    "                     weights[i] / len(means.power[stations[i]].get_values())\n",
    "    \n",
    "    return potential"
   ]
  },
  {
   "cell_type": "code",
   "execution_count": 17,
   "metadata": {
    "collapsed": false,
    "scrolled": true
   },
   "outputs": [],
   "source": [
    "monthly_potential = get_average_power_potential(neighbourNames.get_values(), neighbourWeights, means)"
   ]
  },
  {
   "cell_type": "code",
   "execution_count": 18,
   "metadata": {
    "collapsed": false
   },
   "outputs": [
    {
     "data": {
      "text/plain": [
       "0.13477425157321793"
      ]
     },
     "execution_count": 18,
     "metadata": {},
     "output_type": "execute_result"
    }
   ],
   "source": [
    "potentialAllFeatures = np.mean(np.array(monthly_potential)) # Wp\n",
    "potentialAllFeatures"
   ]
  },
  {
   "cell_type": "markdown",
   "metadata": {},
   "source": [
    "# Installation Costs"
   ]
  },
  {
   "cell_type": "markdown",
   "metadata": {},
   "source": [
    "## User's input"
   ]
  },
  {
   "cell_type": "markdown",
   "metadata": {},
   "source": [
    "To provide an estimation of the investment needed to go solar, we ask the user to provide her monthly average electricity bill and her roof area."
   ]
  },
  {
   "cell_type": "code",
   "execution_count": 19,
   "metadata": {
    "collapsed": true
   },
   "outputs": [],
   "source": [
    "averageElectricityBill = np.array([80]) # CHF\n",
    "roofArea = 120 # m2"
   ]
  },
  {
   "cell_type": "markdown",
   "metadata": {},
   "source": [
    "## Parameters"
   ]
  },
  {
   "cell_type": "markdown",
   "metadata": {},
   "source": [
    "### Electricity"
   ]
  },
  {
   "cell_type": "markdown",
   "metadata": {},
   "source": [
    "We consider an average electricity tariff of 20 cents/kWh, as described in the `economicParameters module`."
   ]
  },
  {
   "cell_type": "code",
   "execution_count": 20,
   "metadata": {
    "collapsed": true
   },
   "outputs": [],
   "source": [
    "elecTariff = 0.20 # CHF/kWh"
   ]
  },
  {
   "cell_type": "markdown",
   "metadata": {},
   "source": [
    "### Solar"
   ]
  },
  {
   "cell_type": "markdown",
   "metadata": {},
   "source": [
    "And we consider the following characteristics for the solar panel according to the information we have collected. Further details are also available in the `economicParameters module`."
   ]
  },
  {
   "cell_type": "code",
   "execution_count": 21,
   "metadata": {
    "collapsed": true
   },
   "outputs": [],
   "source": [
    "capacityPerPanel = 255 # Wp\n",
    "costPerPanel = 500 # CHF\n",
    "panelArea = 1.62 # m2"
   ]
  },
  {
   "cell_type": "markdown",
   "metadata": {},
   "source": [
    "## Average Consumption"
   ]
  },
  {
   "cell_type": "markdown",
   "metadata": {},
   "source": [
    "Given these parameters and the user's input, we can estimate the average power consumed by the user."
   ]
  },
  {
   "cell_type": "code",
   "execution_count": 22,
   "metadata": {
    "collapsed": true
   },
   "outputs": [],
   "source": [
    "hours = 24\n",
    "days = 30"
   ]
  },
  {
   "cell_type": "code",
   "execution_count": 23,
   "metadata": {
    "collapsed": false
   },
   "outputs": [],
   "source": [
    "avgEnergy = averageElectricityBill / elecTariff"
   ]
  },
  {
   "cell_type": "code",
   "execution_count": 24,
   "metadata": {
    "collapsed": false
   },
   "outputs": [
    {
     "data": {
      "text/plain": [
       "array([ 0.55555556])"
      ]
     },
     "execution_count": 24,
     "metadata": {},
     "output_type": "execute_result"
    }
   ],
   "source": [
    "avgPower = avgEnergy / (hours*days) # kW\n",
    "avgPower"
   ]
  },
  {
   "cell_type": "markdown",
   "metadata": {},
   "source": [
    "## Solar Cost and Capacity"
   ]
  },
  {
   "cell_type": "markdown",
   "metadata": {},
   "source": [
    "Users can choose to cover different percentages of their roof areas, according to the initial investment needed, the break-even time and the total savings. <br>\n",
    "Here, we consider a step of 5% of coverage area between the different installations."
   ]
  },
  {
   "cell_type": "code",
   "execution_count": 25,
   "metadata": {
    "collapsed": true
   },
   "outputs": [],
   "source": [
    "installation = np.array(range(5,101,5)) / 100"
   ]
  },
  {
   "cell_type": "markdown",
   "metadata": {},
   "source": [
    "For each coverage area percentage, we can cumpute the maximum number of panels needed."
   ]
  },
  {
   "cell_type": "code",
   "execution_count": 26,
   "metadata": {
    "collapsed": true
   },
   "outputs": [],
   "source": [
    "numPanels = np.floor(roofArea/panelArea)"
   ]
  },
  {
   "cell_type": "markdown",
   "metadata": {},
   "source": [
    "And, from them, estimate the investment for the household, the power capacity of each of the installations and their solar potential."
   ]
  },
  {
   "cell_type": "code",
   "execution_count": 27,
   "metadata": {
    "collapsed": false
   },
   "outputs": [],
   "source": [
    "capacity = installation * numPanels * capacityPerPanel / 1000 # kWp\n",
    "cost = installation * numPanels * costPerPanel # CHF"
   ]
  },
  {
   "cell_type": "code",
   "execution_count": 28,
   "metadata": {
    "collapsed": true
   },
   "outputs": [],
   "source": [
    "solarPower = capacity * monthly_potential # kW"
   ]
  },
  {
   "cell_type": "markdown",
   "metadata": {},
   "source": [
    "### Finding suitable installations"
   ]
  },
  {
   "cell_type": "markdown",
   "metadata": {},
   "source": [
    "We assume that the startegy of the household is to breakeven. \n",
    "So, suitable installations of solar panels will be the ones where the solar capacity is less than the average power consumption of the household."
   ]
  },
  {
   "cell_type": "code",
   "execution_count": 29,
   "metadata": {
    "collapsed": false
   },
   "outputs": [],
   "source": [
    "indx = solarPower <= avgPower\n",
    "\n",
    "installationFinal = installation[indx]\n",
    "installCapacity = capacity[indx]\n",
    "installCost = cost[indx]\n",
    "installPower = solarPower[indx]"
   ]
  },
  {
   "cell_type": "code",
   "execution_count": 30,
   "metadata": {
    "collapsed": false
   },
   "outputs": [
    {
     "data": {
      "text/html": [
       "<div>\n",
       "<table border=\"1\" class=\"dataframe\">\n",
       "  <thead>\n",
       "    <tr style=\"text-align: right;\">\n",
       "      <th></th>\n",
       "      <th>capacity [kW]</th>\n",
       "      <th>cost [CHF]</th>\n",
       "      <th>power [kW]</th>\n",
       "    </tr>\n",
       "    <tr>\n",
       "      <th>installation [%]</th>\n",
       "      <th></th>\n",
       "      <th></th>\n",
       "      <th></th>\n",
       "    </tr>\n",
       "  </thead>\n",
       "  <tbody>\n",
       "    <tr>\n",
       "      <th>0.05</th>\n",
       "      <td>0.9435</td>\n",
       "      <td>1850.0</td>\n",
       "      <td>0.127160</td>\n",
       "    </tr>\n",
       "    <tr>\n",
       "      <th>0.10</th>\n",
       "      <td>1.8870</td>\n",
       "      <td>3700.0</td>\n",
       "      <td>0.254319</td>\n",
       "    </tr>\n",
       "    <tr>\n",
       "      <th>0.15</th>\n",
       "      <td>2.8305</td>\n",
       "      <td>5550.0</td>\n",
       "      <td>0.381479</td>\n",
       "    </tr>\n",
       "    <tr>\n",
       "      <th>0.20</th>\n",
       "      <td>3.7740</td>\n",
       "      <td>7400.0</td>\n",
       "      <td>0.508638</td>\n",
       "    </tr>\n",
       "  </tbody>\n",
       "</table>\n",
       "</div>"
      ],
      "text/plain": [
       "                  capacity [kW]  cost [CHF]  power [kW]\n",
       "installation [%]                                       \n",
       "0.05                     0.9435      1850.0    0.127160\n",
       "0.10                     1.8870      3700.0    0.254319\n",
       "0.15                     2.8305      5550.0    0.381479\n",
       "0.20                     3.7740      7400.0    0.508638"
      ]
     },
     "execution_count": 30,
     "metadata": {},
     "output_type": "execute_result"
    }
   ],
   "source": [
    "solar_df = pd.DataFrame()\n",
    "solar_df['capacity [kW]'] = installCapacity\n",
    "solar_df['cost [CHF]'] = installCost\n",
    "solar_df['power [kW]'] = installPower\n",
    "solar_df['installation [%]'] = installationFinal\n",
    "solar_df = solar_df.set_index('installation [%]')\n",
    "solar_df"
   ]
  },
  {
   "cell_type": "markdown",
   "metadata": {},
   "source": [
    "# Savings and break-even time"
   ]
  },
  {
   "cell_type": "markdown",
   "metadata": {},
   "source": [
    "Here, we compute the new electricity bill that he household would incur, after solar installations."
   ]
  },
  {
   "cell_type": "code",
   "execution_count": 31,
   "metadata": {
    "collapsed": true
   },
   "outputs": [],
   "source": [
    "hoursInADay = 24\n",
    "daysInAMonth = 30\n",
    "def get_new_bill(bill, power, elec_tariff):\n",
    "    \"\"\"\n",
    "    Compute monthly electricity bill when using installation giving passed solar power.\n",
    "    :param bill: monthly electricity bill of user\n",
    "    :param power: monthly solar power produced with a given installation\n",
    "    :param elec_tariff: electricity tariff at user's house location\n",
    "    :return: new monthly average electricity bill and new monthly usage pattern for the produced solar power\n",
    "    \"\"\"\n",
    "    avgEnergyUsed = bill / elec_tariff\n",
    "    avgEnergyUsed_daytime = avgEnergyUsed / 2\n",
    "    nightUsage = avgEnergyUsed / 2\n",
    "\n",
    "    avgEnergyProduced = power * hoursInADay * daysInAMonth\n",
    "    \n",
    "    newBill = np.empty(len(power))\n",
    "    newUsageFromUtility = np.empty(len(power))\n",
    "    for i in range(len(power)):\n",
    "        dayUsage = max(0, avgEnergyUsed_daytime - avgEnergyProduced[i])\n",
    "        newUsageFromUtility[i] = dayUsage + nightUsage\n",
    "        newBill[i] = newUsageFromUtility[i] * elec_tariff\n",
    "\n",
    "    return newBill, newUsageFromUtility"
   ]
  },
  {
   "cell_type": "code",
   "execution_count": 32,
   "metadata": {
    "collapsed": false
   },
   "outputs": [],
   "source": [
    "newBill, newUsage = get_new_bill(averageElectricityBill, installPower, elecTariff)"
   ]
  },
  {
   "cell_type": "markdown",
   "metadata": {},
   "source": [
    "Here, savings are computed as: \n",
    "$$savings\\_for\\_an\\_installation = new\\_bill - old\\_bill - cost\\_of\\_installation$$\n",
    "$$$$\n",
    "We compute the monthly savings for a period of 25 years."
   ]
  },
  {
   "cell_type": "code",
   "execution_count": 33,
   "metadata": {
    "collapsed": false
   },
   "outputs": [],
   "source": [
    "totalYears = 25\n",
    "monthsInAYear = 12\n",
    "def get_cumulative_savings(oldBill, newBill, cost):\n",
    "    \"\"\"\n",
    "    Compute savings over 25 years earned by going solar.\n",
    "    :param oldBill: average monthly electricity bill of the user before installing solar panels\n",
    "    :param newBill: monthly electricity bill when installing a given number of solar panels\n",
    "    :param cost: initial investment for solar installation\n",
    "    :return:\n",
    "    \"\"\"\n",
    "    months = range(1, totalYears*monthsInAYear + 1)\n",
    "    savings = np.empty((len(newBill), len(months)))\n",
    "    for i in range(len(newBill)):\n",
    "        eachMonth = oldBill - newBill[i]\n",
    "        savings[i,:] = eachMonth * months - cost[i]\n",
    "    return savings"
   ]
  },
  {
   "cell_type": "code",
   "execution_count": 34,
   "metadata": {
    "collapsed": false
   },
   "outputs": [],
   "source": [
    "savings = get_cumulative_savings(averageElectricityBill, newBill, installCost)\n",
    "finalSavings = savings[:,-1]"
   ]
  },
  {
   "cell_type": "markdown",
   "metadata": {},
   "source": [
    "From the monthly savings over a period of 25 years, we compute the break-even time."
   ]
  },
  {
   "cell_type": "code",
   "execution_count": 35,
   "metadata": {
    "collapsed": true
   },
   "outputs": [],
   "source": [
    "def get_break_even_time(savings):\n",
    "    \"\"\"\n",
    "    Compute number of years until payback for each possible installation plan.\n",
    "    :param savings:\n",
    "    :return: array of number of years until payback\n",
    "    \"\"\"\n",
    "    nInstalls = savings.shape[0]\n",
    "    breakEven = np.empty(nInstalls)\n",
    "    for i in range(nInstalls):\n",
    "        breakEven[i] = np.argmax(savings[i,:] > 0)\n",
    "\n",
    "    return breakEven"
   ]
  },
  {
   "cell_type": "code",
   "execution_count": 36,
   "metadata": {
    "collapsed": false
   },
   "outputs": [],
   "source": [
    "breakEven = get_break_even_time(savings) / 12 # number of years until payback"
   ]
  },
  {
   "cell_type": "markdown",
   "metadata": {},
   "source": [
    "# Results"
   ]
  },
  {
   "cell_type": "markdown",
   "metadata": {},
   "source": [
    "Here, we summarize the characteristics for all the suitable installations."
   ]
  },
  {
   "cell_type": "code",
   "execution_count": 37,
   "metadata": {
    "collapsed": false
   },
   "outputs": [
    {
     "data": {
      "text/html": [
       "<div>\n",
       "<table border=\"1\" class=\"dataframe\">\n",
       "  <thead>\n",
       "    <tr style=\"text-align: right;\">\n",
       "      <th></th>\n",
       "      <th>capacity [kW]</th>\n",
       "      <th>cost [CHF]</th>\n",
       "      <th>power [kW]</th>\n",
       "      <th>breakEvenYears</th>\n",
       "      <th>savings_after_25yrs [CHF]</th>\n",
       "      <th>annual_savings [CHF]</th>\n",
       "    </tr>\n",
       "    <tr>\n",
       "      <th>installation [%]</th>\n",
       "      <th></th>\n",
       "      <th></th>\n",
       "      <th></th>\n",
       "      <th></th>\n",
       "      <th></th>\n",
       "      <th></th>\n",
       "    </tr>\n",
       "  </thead>\n",
       "  <tbody>\n",
       "    <tr>\n",
       "      <th>0.05</th>\n",
       "      <td>0.9435</td>\n",
       "      <td>1850.0</td>\n",
       "      <td>0.127160</td>\n",
       "      <td>8.416667</td>\n",
       "      <td>3643.290675</td>\n",
       "      <td>145.731627</td>\n",
       "    </tr>\n",
       "    <tr>\n",
       "      <th>0.10</th>\n",
       "      <td>1.8870</td>\n",
       "      <td>3700.0</td>\n",
       "      <td>0.254319</td>\n",
       "      <td>8.416667</td>\n",
       "      <td>7286.581349</td>\n",
       "      <td>291.463254</td>\n",
       "    </tr>\n",
       "    <tr>\n",
       "      <th>0.15</th>\n",
       "      <td>2.8305</td>\n",
       "      <td>5550.0</td>\n",
       "      <td>0.381479</td>\n",
       "      <td>11.500000</td>\n",
       "      <td>6450.000000</td>\n",
       "      <td>258.000000</td>\n",
       "    </tr>\n",
       "    <tr>\n",
       "      <th>0.20</th>\n",
       "      <td>3.7740</td>\n",
       "      <td>7400.0</td>\n",
       "      <td>0.508638</td>\n",
       "      <td>15.416667</td>\n",
       "      <td>4600.000000</td>\n",
       "      <td>184.000000</td>\n",
       "    </tr>\n",
       "  </tbody>\n",
       "</table>\n",
       "</div>"
      ],
      "text/plain": [
       "                  capacity [kW]  cost [CHF]  power [kW]  breakEvenYears  \\\n",
       "installation [%]                                                          \n",
       "0.05                     0.9435      1850.0    0.127160        8.416667   \n",
       "0.10                     1.8870      3700.0    0.254319        8.416667   \n",
       "0.15                     2.8305      5550.0    0.381479       11.500000   \n",
       "0.20                     3.7740      7400.0    0.508638       15.416667   \n",
       "\n",
       "                  savings_after_25yrs [CHF]  annual_savings [CHF]  \n",
       "installation [%]                                                   \n",
       "0.05                            3643.290675            145.731627  \n",
       "0.10                            7286.581349            291.463254  \n",
       "0.15                            6450.000000            258.000000  \n",
       "0.20                            4600.000000            184.000000  "
      ]
     },
     "execution_count": 37,
     "metadata": {},
     "output_type": "execute_result"
    }
   ],
   "source": [
    "final_df = solar_df\n",
    "final_df['breakEvenYears'] = breakEven\n",
    "final_df['savings_after_25yrs [CHF]'] = finalSavings\n",
    "final_df['annual_savings [CHF]'] = finalSavings / totalYears\n",
    "final_df"
   ]
  },
  {
   "cell_type": "code",
   "execution_count": 38,
   "metadata": {
    "collapsed": false,
    "scrolled": false
   },
   "outputs": [
    {
     "data": {
      "image/png": "[encoded data removed]",
      "text/plain": [
       "<matplotlib.figure.Figure at 0x7fb0ac3986a0>"
      ]
     },
     "metadata": {},
     "output_type": "display_data"
    }
   ],
   "source": [
    "plt.figure(figsize=(10,8))\n",
    "for i in range(savings.shape[0]):\n",
    "    plt.plot(savings[i,:])\n",
    "plt.xlabel('Number of months from Jan 2017', fontsize=14)\n",
    "plt.title('Monthly savings per installation [CHF]', fontsize=20)\n",
    "plt.legend(final_df.index.values)\n",
    "plt.grid()"
   ]
  }
 ],
 "metadata": {
  "anaconda-cloud": {},
  "kernelspec": {
   "display_name": "Python [Root]",
   "language": "python",
   "name": "Python [Root]"
  },
  "language_info": {
   "codemirror_mode": {
    "name": "ipython",
    "version": 3
   },
   "file_extension": ".py",
   "mimetype": "text/x-python",
   "name": "python",
   "nbconvert_exporter": "python",
   "pygments_lexer": "ipython3",
   "version": "3.5.2"
  }
 },
 "nbformat": 4,
 "nbformat_minor": 0
}
