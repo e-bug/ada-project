{
 "cells": [
  {
   "cell_type": "code",
   "execution_count": 1,
   "metadata": {
    "collapsed": false
   },
   "outputs": [],
   "source": [
    "# IMPORTING LIBRARIES\n",
    "import pandas as pd\n",
    "from datetime import datetime, timedelta\n",
    "import pickle\n",
    "\n",
    "import matplotlib.pyplot as plt\n",
    "import seaborn as sns                                   # For pretty plot\n",
    "%matplotlib inline\n",
    "\n",
    "import warnings\n",
    "warnings.filterwarnings('ignore')"
   ]
  },
  {
   "cell_type": "markdown",
   "metadata": {},
   "source": [
    "In this notebook, we train different regressors to relate measurements to the *power* produced by the solar plant at EPFL, in the ELL building. <br>\n",
    "We start by looking only at the *irradiance* measured in the same building. <br>\n",
    "From these measurements, we obtain two baseline linear models. <br>\n",
    "We then pick the most accurate of them, and train regressors with different polynomial expansions.\n",
    "From these models, we save the most accurate one as `model.p`. <br>\n",
    "After that, we introduce *temperature* and *wind* measurements (based on the measurements from other weather stations, according to the steps shown in the `geocoding module`) and train more sophisticated regressors.\n",
    "The final, most accurate model is stored as `model_with_temp_wind.p`."
   ]
  },
  {
   "cell_type": "markdown",
   "metadata": {},
   "source": [
    "# Load ELL data"
   ]
  },
  {
   "cell_type": "markdown",
   "metadata": {},
   "source": [
    "We start by loading data we have collected from ELL."
   ]
  },
  {
   "cell_type": "code",
   "execution_count": 2,
   "metadata": {
    "collapsed": false
   },
   "outputs": [],
   "source": [
    "power = pd.read_csv('ELL data/power.csv', sep=';', parse_dates=['time'])\n",
    "irrad = pd.read_csv('ELL data/irradiance.csv', sep=';', parse_dates=['time'])"
   ]
  },
  {
   "cell_type": "code",
   "execution_count": 3,
   "metadata": {
    "collapsed": false,
    "scrolled": true
   },
   "outputs": [
    {
     "data": {
      "text/html": [
       "<div>\n",
       "<table border=\"1\" class=\"dataframe\">\n",
       "  <thead>\n",
       "    <tr style=\"text-align: right;\">\n",
       "      <th></th>\n",
       "      <th>time</th>\n",
       "      <th>power</th>\n",
       "    </tr>\n",
       "  </thead>\n",
       "  <tbody>\n",
       "    <tr>\n",
       "      <th>0</th>\n",
       "      <td>2016-01-01 01:00:00</td>\n",
       "      <td>null</td>\n",
       "    </tr>\n",
       "    <tr>\n",
       "      <th>1</th>\n",
       "      <td>2016-01-01 01:01:00</td>\n",
       "      <td>null</td>\n",
       "    </tr>\n",
       "    <tr>\n",
       "      <th>2</th>\n",
       "      <td>2016-01-01 01:02:00</td>\n",
       "      <td>null</td>\n",
       "    </tr>\n",
       "    <tr>\n",
       "      <th>3</th>\n",
       "      <td>2016-01-01 01:03:00</td>\n",
       "      <td>null</td>\n",
       "    </tr>\n",
       "    <tr>\n",
       "      <th>4</th>\n",
       "      <td>2016-01-01 01:04:00</td>\n",
       "      <td>null</td>\n",
       "    </tr>\n",
       "  </tbody>\n",
       "</table>\n",
       "</div>"
      ],
      "text/plain": [
       "                 time power\n",
       "0 2016-01-01 01:00:00  null\n",
       "1 2016-01-01 01:01:00  null\n",
       "2 2016-01-01 01:02:00  null\n",
       "3 2016-01-01 01:03:00  null\n",
       "4 2016-01-01 01:04:00  null"
      ]
     },
     "execution_count": 3,
     "metadata": {},
     "output_type": "execute_result"
    }
   ],
   "source": [
    "power.head()"
   ]
  },
  {
   "cell_type": "code",
   "execution_count": 4,
   "metadata": {
    "collapsed": false
   },
   "outputs": [
    {
     "data": {
      "text/html": [
       "<div>\n",
       "<table border=\"1\" class=\"dataframe\">\n",
       "  <thead>\n",
       "    <tr style=\"text-align: right;\">\n",
       "      <th></th>\n",
       "      <th>time</th>\n",
       "      <th>irradiance</th>\n",
       "    </tr>\n",
       "  </thead>\n",
       "  <tbody>\n",
       "    <tr>\n",
       "      <th>274795</th>\n",
       "      <td>2016-07-09 20:55:00</td>\n",
       "      <td>0.4530000000000001</td>\n",
       "    </tr>\n",
       "    <tr>\n",
       "      <th>274796</th>\n",
       "      <td>2016-07-09 20:56:00</td>\n",
       "      <td>0.4520000000000001</td>\n",
       "    </tr>\n",
       "    <tr>\n",
       "      <th>274797</th>\n",
       "      <td>2016-07-09 20:57:00</td>\n",
       "      <td>0.4511666666666667</td>\n",
       "    </tr>\n",
       "    <tr>\n",
       "      <th>274798</th>\n",
       "      <td>2016-07-09 20:58:00</td>\n",
       "      <td>0.4545000000000002</td>\n",
       "    </tr>\n",
       "    <tr>\n",
       "      <th>274799</th>\n",
       "      <td>2016-07-09 20:59:00</td>\n",
       "      <td>0.4577966101694915</td>\n",
       "    </tr>\n",
       "  </tbody>\n",
       "</table>\n",
       "</div>"
      ],
      "text/plain": [
       "                      time          irradiance\n",
       "274795 2016-07-09 20:55:00  0.4530000000000001\n",
       "274796 2016-07-09 20:56:00  0.4520000000000001\n",
       "274797 2016-07-09 20:57:00  0.4511666666666667\n",
       "274798 2016-07-09 20:58:00  0.4545000000000002\n",
       "274799 2016-07-09 20:59:00  0.4577966101694915"
      ]
     },
     "execution_count": 4,
     "metadata": {},
     "output_type": "execute_result"
    }
   ],
   "source": [
    "irrad.tail()"
   ]
  },
  {
   "cell_type": "markdown",
   "metadata": {},
   "source": [
    "We can immediately see that different values are missing from the measurements."
   ]
  },
  {
   "cell_type": "markdown",
   "metadata": {},
   "source": [
    "# Handling null values"
   ]
  },
  {
   "cell_type": "markdown",
   "metadata": {},
   "source": [
    "We firstly need to check how many missing values are present in the collected data.\n",
    "So, we make a copy of the original DataFrames and we set values in the measurements column to one if the value is missing, 0 otherwise."
   ]
  },
  {
   "cell_type": "code",
   "execution_count": 5,
   "metadata": {
    "collapsed": false
   },
   "outputs": [],
   "source": [
    "whereis_null_power = power.copy()\n",
    "whereis_null_power.loc[whereis_null_power.power != 'null', 'power'] = 0\n",
    "whereis_null_power.loc[whereis_null_power.power == 'null', 'power'] = 1"
   ]
  },
  {
   "cell_type": "code",
   "execution_count": 6,
   "metadata": {
    "collapsed": false
   },
   "outputs": [
    {
     "data": {
      "text/plain": [
       "0    261641\n",
       "1     13159\n",
       "Name: power, dtype: int64"
      ]
     },
     "execution_count": 6,
     "metadata": {},
     "output_type": "execute_result"
    }
   ],
   "source": [
    "whereis_null_power['power'].value_counts()"
   ]
  },
  {
   "cell_type": "code",
   "execution_count": 7,
   "metadata": {
    "collapsed": false
   },
   "outputs": [],
   "source": [
    "whereis_null_irrad = irrad.copy()\n",
    "whereis_null_irrad.loc[whereis_null_irrad.irradiance != 'null', 'irradiance'] = 0\n",
    "whereis_null_irrad.loc[whereis_null_irrad.irradiance == 'null', 'irradiance'] = 1"
   ]
  },
  {
   "cell_type": "code",
   "execution_count": 8,
   "metadata": {
    "collapsed": false
   },
   "outputs": [
    {
     "data": {
      "text/plain": [
       "0    261641\n",
       "1     13159\n",
       "Name: irradiance, dtype: int64"
      ]
     },
     "execution_count": 8,
     "metadata": {},
     "output_type": "execute_result"
    }
   ],
   "source": [
    "whereis_null_irrad['irradiance'].value_counts()"
   ]
  },
  {
   "cell_type": "markdown",
   "metadata": {},
   "source": [
    "Thus, only 5% of the measurements are missing.\n",
    "We try two strategies:\n",
    "- replaing missing values with 0\n",
    "- removing measurements having missing values"
   ]
  },
  {
   "cell_type": "markdown",
   "metadata": {},
   "source": [
    "## Replacing null values with zeros"
   ]
  },
  {
   "cell_type": "code",
   "execution_count": 9,
   "metadata": {
    "collapsed": true
   },
   "outputs": [],
   "source": [
    "power.replace(to_replace='null', value=0, inplace=True)\n",
    "irrad.replace(to_replace='null', value=0, inplace=True)"
   ]
  },
  {
   "cell_type": "markdown",
   "metadata": {},
   "source": [
    "### Data wrangling"
   ]
  },
  {
   "cell_type": "markdown",
   "metadata": {},
   "source": [
    "Firstly, we convert measurements' values from string to float."
   ]
  },
  {
   "cell_type": "code",
   "execution_count": 10,
   "metadata": {
    "collapsed": false
   },
   "outputs": [],
   "source": [
    "power['power'] = power['power'].astype(float)\n",
    "irrad['irradiance'] = irrad['irradiance'].astype(float)"
   ]
  },
  {
   "cell_type": "code",
   "execution_count": 11,
   "metadata": {
    "collapsed": false
   },
   "outputs": [
    {
     "data": {
      "text/html": [
       "<div>\n",
       "<table border=\"1\" class=\"dataframe\">\n",
       "  <thead>\n",
       "    <tr style=\"text-align: right;\">\n",
       "      <th></th>\n",
       "      <th>time</th>\n",
       "      <th>power</th>\n",
       "    </tr>\n",
       "  </thead>\n",
       "  <tbody>\n",
       "    <tr>\n",
       "      <th>0</th>\n",
       "      <td>2016-01-01 01:00:00</td>\n",
       "      <td>0.0</td>\n",
       "    </tr>\n",
       "    <tr>\n",
       "      <th>1</th>\n",
       "      <td>2016-01-01 01:01:00</td>\n",
       "      <td>0.0</td>\n",
       "    </tr>\n",
       "    <tr>\n",
       "      <th>2</th>\n",
       "      <td>2016-01-01 01:02:00</td>\n",
       "      <td>0.0</td>\n",
       "    </tr>\n",
       "    <tr>\n",
       "      <th>3</th>\n",
       "      <td>2016-01-01 01:03:00</td>\n",
       "      <td>0.0</td>\n",
       "    </tr>\n",
       "    <tr>\n",
       "      <th>4</th>\n",
       "      <td>2016-01-01 01:04:00</td>\n",
       "      <td>0.0</td>\n",
       "    </tr>\n",
       "  </tbody>\n",
       "</table>\n",
       "</div>"
      ],
      "text/plain": [
       "                 time  power\n",
       "0 2016-01-01 01:00:00    0.0\n",
       "1 2016-01-01 01:01:00    0.0\n",
       "2 2016-01-01 01:02:00    0.0\n",
       "3 2016-01-01 01:03:00    0.0\n",
       "4 2016-01-01 01:04:00    0.0"
      ]
     },
     "execution_count": 11,
     "metadata": {},
     "output_type": "execute_result"
    }
   ],
   "source": [
    "power.head()"
   ]
  },
  {
   "cell_type": "markdown",
   "metadata": {},
   "source": [
    "Secondly, we add a timestamp to each measurement as the difference, in seconds, from the first measurement."
   ]
  },
  {
   "cell_type": "code",
   "execution_count": 12,
   "metadata": {
    "collapsed": false
   },
   "outputs": [],
   "source": [
    "def get_timestamp_from_time(measurement_datetime, reference_datetime=datetime(2016, 1, 1, 1, 0, 0)):\n",
    "    \"\"\"\n",
    "    Retrieve the difference in time between measurement_time and reference_time.\n",
    "    :param measurement_datetime: pandas.tslib.Timestamp value of a measurement\n",
    "    :param reference_datetime: reference datetime value (Default: 01/01/2016 1:00am)\n",
    "    :return: difference in seconds between measurement_datetime and reference_datetime\n",
    "    \"\"\"\n",
    "    \n",
    "    return (measurement_datetime - reference_datetime) // timedelta(seconds=1)"
   ]
  },
  {
   "cell_type": "code",
   "execution_count": 13,
   "metadata": {
    "collapsed": false
   },
   "outputs": [],
   "source": [
    "seconds = power['time'].apply(get_timestamp_from_time)"
   ]
  },
  {
   "cell_type": "code",
   "execution_count": 14,
   "metadata": {
    "collapsed": false
   },
   "outputs": [],
   "source": [
    "power['timestamp'] = seconds\n",
    "irrad['timestamp'] = seconds"
   ]
  },
  {
   "cell_type": "code",
   "execution_count": 15,
   "metadata": {
    "collapsed": false
   },
   "outputs": [
    {
     "data": {
      "text/html": [
       "<div>\n",
       "<table border=\"1\" class=\"dataframe\">\n",
       "  <thead>\n",
       "    <tr style=\"text-align: right;\">\n",
       "      <th></th>\n",
       "      <th>time</th>\n",
       "      <th>power</th>\n",
       "      <th>timestamp</th>\n",
       "    </tr>\n",
       "  </thead>\n",
       "  <tbody>\n",
       "    <tr>\n",
       "      <th>0</th>\n",
       "      <td>2016-01-01 01:00:00</td>\n",
       "      <td>0.0</td>\n",
       "      <td>0</td>\n",
       "    </tr>\n",
       "    <tr>\n",
       "      <th>1</th>\n",
       "      <td>2016-01-01 01:01:00</td>\n",
       "      <td>0.0</td>\n",
       "      <td>60</td>\n",
       "    </tr>\n",
       "    <tr>\n",
       "      <th>2</th>\n",
       "      <td>2016-01-01 01:02:00</td>\n",
       "      <td>0.0</td>\n",
       "      <td>120</td>\n",
       "    </tr>\n",
       "    <tr>\n",
       "      <th>3</th>\n",
       "      <td>2016-01-01 01:03:00</td>\n",
       "      <td>0.0</td>\n",
       "      <td>180</td>\n",
       "    </tr>\n",
       "    <tr>\n",
       "      <th>4</th>\n",
       "      <td>2016-01-01 01:04:00</td>\n",
       "      <td>0.0</td>\n",
       "      <td>240</td>\n",
       "    </tr>\n",
       "  </tbody>\n",
       "</table>\n",
       "</div>"
      ],
      "text/plain": [
       "                 time  power  timestamp\n",
       "0 2016-01-01 01:00:00    0.0          0\n",
       "1 2016-01-01 01:01:00    0.0         60\n",
       "2 2016-01-01 01:02:00    0.0        120\n",
       "3 2016-01-01 01:03:00    0.0        180\n",
       "4 2016-01-01 01:04:00    0.0        240"
      ]
     },
     "execution_count": 15,
     "metadata": {},
     "output_type": "execute_result"
    }
   ],
   "source": [
    "power.head()"
   ]
  },
  {
   "cell_type": "markdown",
   "metadata": {},
   "source": [
    "### Plotting power and irradiance distributions "
   ]
  },
  {
   "cell_type": "code",
   "execution_count": 16,
   "metadata": {
    "collapsed": false
   },
   "outputs": [
    {
     "data": {
      "text/plain": [
       "[<matplotlib.lines.Line2D at 0x7fe59f3c1358>]"
      ]
     },
     "execution_count": 16,
     "metadata": {},
     "output_type": "execute_result"
    },
    {
     "data": {
      "image/png": "[encoded data removed]",
      "text/plain": [
       "<matplotlib.figure.Figure at 0x7fe59f7dd9e8>"
      ]
     },
     "metadata": {},
     "output_type": "display_data"
    }
   ],
   "source": [
    "plt.plot(power['timestamp'], power['power'])"
   ]
  },
  {
   "cell_type": "code",
   "execution_count": 17,
   "metadata": {
    "collapsed": false,
    "scrolled": true
   },
   "outputs": [
    {
     "data": {
      "text/plain": [
       "[<matplotlib.lines.Line2D at 0x7fe5a0ea75f8>]"
      ]
     },
     "execution_count": 17,
     "metadata": {},
     "output_type": "execute_result"
    },
    {
     "data": {
      "image/png": "[encoded data removed]",
      "text/plain": [
       "<matplotlib.figure.Figure at 0x7fe59fb6cd68>"
      ]
     },
     "metadata": {},
     "output_type": "display_data"
    }
   ],
   "source": [
    "plt.plot(irrad['timestamp'], irrad['irradiance'])"
   ]
  },
  {
   "cell_type": "markdown",
   "metadata": {},
   "source": [
    "Here, we can see how the total power measured by the solar plant suddenly increases almost at the end of the period we consider.\n",
    "This is because the number of panels doubled on May 24, 2016!\n",
    "\n",
    "We need to take this into account in order to learn a correct model. Thus, what we do, is simply dividing the power produced after May 24 by 2."
   ]
  },
  {
   "cell_type": "code",
   "execution_count": 18,
   "metadata": {
    "collapsed": true
   },
   "outputs": [],
   "source": [
    "new_panels_date = datetime(2016,5,24,7,31,0)"
   ]
  },
  {
   "cell_type": "markdown",
   "metadata": {},
   "source": [
    "We compute the timestamp corresponding to the new installation."
   ]
  },
  {
   "cell_type": "code",
   "execution_count": 19,
   "metadata": {
    "collapsed": false
   },
   "outputs": [],
   "source": [
    "ts_double_panels = get_timestamp_from_time(new_panels_date)"
   ]
  },
  {
   "cell_type": "markdown",
   "metadata": {},
   "source": [
    "And we identify all those measurements that are affected."
   ]
  },
  {
   "cell_type": "code",
   "execution_count": 20,
   "metadata": {
    "collapsed": false
   },
   "outputs": [],
   "source": [
    "indx = power[power.timestamp >= ts_double_panels].index"
   ]
  },
  {
   "cell_type": "markdown",
   "metadata": {},
   "source": [
    "Finally, we divide the power by 2 to take into account the doubled number of panels."
   ]
  },
  {
   "cell_type": "code",
   "execution_count": 21,
   "metadata": {
    "collapsed": false,
    "scrolled": true
   },
   "outputs": [
    {
     "data": {
      "text/plain": [
       "207751    0.0\n",
       "207752    0.0\n",
       "207753    0.0\n",
       "207754    0.0\n",
       "207755    0.0\n",
       "Name: power, dtype: float64"
      ]
     },
     "execution_count": 21,
     "metadata": {},
     "output_type": "execute_result"
    }
   ],
   "source": [
    "y = power.loc[power.timestamp >= ts_double_panels]['power'] / 2\n",
    "y.head()"
   ]
  },
  {
   "cell_type": "code",
   "execution_count": 22,
   "metadata": {
    "collapsed": false
   },
   "outputs": [],
   "source": [
    "power.ix[power.timestamp >= ts_double_panels, 'power'] = y"
   ]
  },
  {
   "cell_type": "code",
   "execution_count": 23,
   "metadata": {
    "collapsed": false
   },
   "outputs": [
    {
     "data": {
      "text/html": [
       "<div>\n",
       "<table border=\"1\" class=\"dataframe\">\n",
       "  <thead>\n",
       "    <tr style=\"text-align: right;\">\n",
       "      <th></th>\n",
       "      <th>time</th>\n",
       "      <th>power</th>\n",
       "      <th>timestamp</th>\n",
       "    </tr>\n",
       "  </thead>\n",
       "  <tbody>\n",
       "    <tr>\n",
       "      <th>274795</th>\n",
       "      <td>2016-07-09 20:55:00</td>\n",
       "      <td>0.005</td>\n",
       "      <td>16487700</td>\n",
       "    </tr>\n",
       "    <tr>\n",
       "      <th>274796</th>\n",
       "      <td>2016-07-09 20:56:00</td>\n",
       "      <td>0.005</td>\n",
       "      <td>16487760</td>\n",
       "    </tr>\n",
       "    <tr>\n",
       "      <th>274797</th>\n",
       "      <td>2016-07-09 20:57:00</td>\n",
       "      <td>0.005</td>\n",
       "      <td>16487820</td>\n",
       "    </tr>\n",
       "    <tr>\n",
       "      <th>274798</th>\n",
       "      <td>2016-07-09 20:58:00</td>\n",
       "      <td>0.005</td>\n",
       "      <td>16487880</td>\n",
       "    </tr>\n",
       "    <tr>\n",
       "      <th>274799</th>\n",
       "      <td>2016-07-09 20:59:00</td>\n",
       "      <td>0.005</td>\n",
       "      <td>16487940</td>\n",
       "    </tr>\n",
       "  </tbody>\n",
       "</table>\n",
       "</div>"
      ],
      "text/plain": [
       "                      time  power  timestamp\n",
       "274795 2016-07-09 20:55:00  0.005   16487700\n",
       "274796 2016-07-09 20:56:00  0.005   16487760\n",
       "274797 2016-07-09 20:57:00  0.005   16487820\n",
       "274798 2016-07-09 20:58:00  0.005   16487880\n",
       "274799 2016-07-09 20:59:00  0.005   16487940"
      ]
     },
     "execution_count": 23,
     "metadata": {},
     "output_type": "execute_result"
    }
   ],
   "source": [
    "power.loc[indx].tail()"
   ]
  },
  {
   "cell_type": "markdown",
   "metadata": {},
   "source": [
    "On the other hand, irradiance is measured in $W/m^2$ and thus there is no need to modify this data."
   ]
  },
  {
   "cell_type": "markdown",
   "metadata": {},
   "source": [
    "### Predicting future values with Linear Regression"
   ]
  },
  {
   "cell_type": "markdown",
   "metadata": {},
   "source": [
    "We now train regressors to relate irradiance measurements to these power measurements."
   ]
  },
  {
   "cell_type": "code",
   "execution_count": 24,
   "metadata": {
    "collapsed": false
   },
   "outputs": [],
   "source": [
    "from sklearn import linear_model"
   ]
  },
  {
   "cell_type": "code",
   "execution_count": 25,
   "metadata": {
    "collapsed": false
   },
   "outputs": [],
   "source": [
    "from sklearn.cross_validation import cross_val_score\n",
    "from sklearn.cross_validation import cross_val_predict"
   ]
  },
  {
   "cell_type": "code",
   "execution_count": 26,
   "metadata": {
    "collapsed": false
   },
   "outputs": [],
   "source": [
    "Pdc = power['power'] # y\n",
    "Gmi = irrad['irradiance'] # X"
   ]
  },
  {
   "cell_type": "markdown",
   "metadata": {},
   "source": [
    "We start with linear regression."
   ]
  },
  {
   "cell_type": "code",
   "execution_count": 27,
   "metadata": {
    "collapsed": true
   },
   "outputs": [],
   "source": [
    "lin_reg = linear_model.LinearRegression()"
   ]
  },
  {
   "cell_type": "markdown",
   "metadata": {
    "collapsed": true
   },
   "source": [
    "And we assess its performances with 10-fold cross validation."
   ]
  },
  {
   "cell_type": "code",
   "execution_count": 28,
   "metadata": {
    "collapsed": false
   },
   "outputs": [],
   "source": [
    "scores = cross_val_score(lin_reg, Gmi.reshape(-1,1), Pdc, cv=10, n_jobs=-1)"
   ]
  },
  {
   "cell_type": "code",
   "execution_count": 29,
   "metadata": {
    "collapsed": false
   },
   "outputs": [
    {
     "name": "stdout",
     "output_type": "stream",
     "text": [
      "0.891767867152\n"
     ]
    }
   ],
   "source": [
    "print(scores.mean())"
   ]
  },
  {
   "cell_type": "markdown",
   "metadata": {},
   "source": [
    "We can then use this model to actually predict new values."
   ]
  },
  {
   "cell_type": "code",
   "execution_count": 30,
   "metadata": {
    "collapsed": false
   },
   "outputs": [
    {
     "data": {
      "text/plain": [
       "LinearRegression(copy_X=True, fit_intercept=True, n_jobs=1, normalize=False)"
      ]
     },
     "execution_count": 30,
     "metadata": {},
     "output_type": "execute_result"
    }
   ],
   "source": [
    "lin_reg.fit(Gmi.reshape(-1,1), Pdc)"
   ]
  },
  {
   "cell_type": "code",
   "execution_count": 31,
   "metadata": {
    "collapsed": false
   },
   "outputs": [
    {
     "data": {
      "text/plain": [
       "array([ 13.12858174])"
      ]
     },
     "execution_count": 31,
     "metadata": {},
     "output_type": "execute_result"
    }
   ],
   "source": [
    "lin_reg.predict(1)"
   ]
  },
  {
   "cell_type": "markdown",
   "metadata": {
    "collapsed": true
   },
   "source": [
    "Finally, we show the learnt models in a plot."
   ]
  },
  {
   "cell_type": "code",
   "execution_count": 32,
   "metadata": {
    "collapsed": false
   },
   "outputs": [],
   "source": [
    "predicted = cross_val_predict(lin_reg, Gmi.reshape(-1,1), Pdc, cv=10, n_jobs=-1)"
   ]
  },
  {
   "cell_type": "code",
   "execution_count": 33,
   "metadata": {
    "collapsed": false
   },
   "outputs": [
    {
     "data": {
      "image/png": "[encoded data removed]",
      "text/plain": [
       "<matplotlib.figure.Figure at 0x7fe5a0a3e278>"
      ]
     },
     "metadata": {},
     "output_type": "display_data"
    }
   ],
   "source": [
    "fig, ax = plt.subplots(figsize=(15,12))\n",
    "ax.scatter(Gmi, Pdc)\n",
    "ax.plot(Gmi, predicted,'r--')\n",
    "ax.set_xlabel('Measured')\n",
    "ax.set_ylabel('Predicted')\n",
    "plt.show()"
   ]
  },
  {
   "cell_type": "markdown",
   "metadata": {
    "collapsed": true
   },
   "source": [
    "## Removing null values"
   ]
  },
  {
   "cell_type": "markdown",
   "metadata": {},
   "source": [
    "Instead of setting null values to 0, we remove the few measurements having missing values."
   ]
  },
  {
   "cell_type": "code",
   "execution_count": 34,
   "metadata": {
    "collapsed": true
   },
   "outputs": [],
   "source": [
    "power2 = pd.read_csv('ELL data/power.csv', sep=';', parse_dates=['time'])\n",
    "irrad2 = pd.read_csv('ELL data/irradiance.csv', sep=';', parse_dates=['time'])"
   ]
  },
  {
   "cell_type": "code",
   "execution_count": 35,
   "metadata": {
    "collapsed": false
   },
   "outputs": [],
   "source": [
    "power2 = power2[power2.power != 'null']\n",
    "irrad2 = irrad2[irrad2.irradiance != 'null']"
   ]
  },
  {
   "cell_type": "markdown",
   "metadata": {},
   "source": [
    "We set measurements to be float (instead of string) and compute timestamps as before."
   ]
  },
  {
   "cell_type": "code",
   "execution_count": 36,
   "metadata": {
    "collapsed": false
   },
   "outputs": [],
   "source": [
    "power2['power'] = power2['power'].astype(float)\n",
    "irrad2['irradiance'] = irrad2['irradiance'].astype(float)"
   ]
  },
  {
   "cell_type": "code",
   "execution_count": 37,
   "metadata": {
    "collapsed": false
   },
   "outputs": [],
   "source": [
    "seconds = power2['time'].apply(get_timestamp_from_time)\n",
    "power2['timestamp'] = seconds\n",
    "irrad2['timestamp'] = seconds"
   ]
  },
  {
   "cell_type": "markdown",
   "metadata": {
    "collapsed": false
   },
   "source": [
    "And we divide by 2 the power after the number of panels doubled."
   ]
  },
  {
   "cell_type": "code",
   "execution_count": 38,
   "metadata": {
    "collapsed": true
   },
   "outputs": [],
   "source": [
    "new_panels_date = datetime(2016,5,24,7,31,0)\n",
    "ts_double_panels = get_timestamp_from_time(new_panels_date)\n",
    "indx2 = power2[power2.timestamp >= ts_double_panels].index\n",
    "y2 = power2.loc[power2.timestamp >= ts_double_panels]['power'] / 2\n",
    "power2.ix[power2.timestamp >= ts_double_panels, 'power'] = y2"
   ]
  },
  {
   "cell_type": "code",
   "execution_count": 39,
   "metadata": {
    "collapsed": false,
    "scrolled": true
   },
   "outputs": [
    {
     "data": {
      "text/html": [
       "<div>\n",
       "<table border=\"1\" class=\"dataframe\">\n",
       "  <thead>\n",
       "    <tr style=\"text-align: right;\">\n",
       "      <th></th>\n",
       "      <th>time</th>\n",
       "      <th>power</th>\n",
       "      <th>timestamp</th>\n",
       "    </tr>\n",
       "  </thead>\n",
       "  <tbody>\n",
       "    <tr>\n",
       "      <th>274795</th>\n",
       "      <td>2016-07-09 20:55:00</td>\n",
       "      <td>0.005</td>\n",
       "      <td>16487700</td>\n",
       "    </tr>\n",
       "    <tr>\n",
       "      <th>274796</th>\n",
       "      <td>2016-07-09 20:56:00</td>\n",
       "      <td>0.005</td>\n",
       "      <td>16487760</td>\n",
       "    </tr>\n",
       "    <tr>\n",
       "      <th>274797</th>\n",
       "      <td>2016-07-09 20:57:00</td>\n",
       "      <td>0.005</td>\n",
       "      <td>16487820</td>\n",
       "    </tr>\n",
       "    <tr>\n",
       "      <th>274798</th>\n",
       "      <td>2016-07-09 20:58:00</td>\n",
       "      <td>0.005</td>\n",
       "      <td>16487880</td>\n",
       "    </tr>\n",
       "    <tr>\n",
       "      <th>274799</th>\n",
       "      <td>2016-07-09 20:59:00</td>\n",
       "      <td>0.005</td>\n",
       "      <td>16487940</td>\n",
       "    </tr>\n",
       "  </tbody>\n",
       "</table>\n",
       "</div>"
      ],
      "text/plain": [
       "                      time  power  timestamp\n",
       "274795 2016-07-09 20:55:00  0.005   16487700\n",
       "274796 2016-07-09 20:56:00  0.005   16487760\n",
       "274797 2016-07-09 20:57:00  0.005   16487820\n",
       "274798 2016-07-09 20:58:00  0.005   16487880\n",
       "274799 2016-07-09 20:59:00  0.005   16487940"
      ]
     },
     "execution_count": 39,
     "metadata": {},
     "output_type": "execute_result"
    }
   ],
   "source": [
    "power2.loc[indx2].tail()"
   ]
  },
  {
   "cell_type": "markdown",
   "metadata": {},
   "source": [
    "### Predicting future values with Linear Regression"
   ]
  },
  {
   "cell_type": "markdown",
   "metadata": {},
   "source": [
    "We train again a linear regressor in order to then compare the performances of the two models."
   ]
  },
  {
   "cell_type": "code",
   "execution_count": 40,
   "metadata": {
    "collapsed": false
   },
   "outputs": [],
   "source": [
    "Pdc2 = power2['power'] # y\n",
    "Gmi2 = irrad2['irradiance'] # X"
   ]
  },
  {
   "cell_type": "code",
   "execution_count": 41,
   "metadata": {
    "collapsed": false
   },
   "outputs": [],
   "source": [
    "lin_reg2 = linear_model.LinearRegression()"
   ]
  },
  {
   "cell_type": "code",
   "execution_count": 42,
   "metadata": {
    "collapsed": false
   },
   "outputs": [],
   "source": [
    "scores2 = cross_val_score(lin_reg2, Gmi2.reshape(-1,1), Pdc2, cv=10, n_jobs=-1)"
   ]
  },
  {
   "cell_type": "code",
   "execution_count": 43,
   "metadata": {
    "collapsed": false
   },
   "outputs": [
    {
     "name": "stdout",
     "output_type": "stream",
     "text": [
      "0.91654976492\n"
     ]
    }
   ],
   "source": [
    "print(scores2.mean())"
   ]
  },
  {
   "cell_type": "markdown",
   "metadata": {},
   "source": [
    "Thus, by dropping null values, mean accuracy actually increases!"
   ]
  },
  {
   "cell_type": "markdown",
   "metadata": {},
   "source": [
    "The predicted models are shown below."
   ]
  },
  {
   "cell_type": "code",
   "execution_count": 44,
   "metadata": {
    "collapsed": false
   },
   "outputs": [],
   "source": [
    "predicted2 = cross_val_predict(lin_reg2, Gmi2.reshape(-1,1), Pdc2, cv=10, n_jobs=-1)"
   ]
  },
  {
   "cell_type": "code",
   "execution_count": 45,
   "metadata": {
    "collapsed": false,
    "scrolled": false
   },
   "outputs": [
    {
     "data": {
      "image/png": "[encoded data removed]",
      "text/plain": [
       "<matplotlib.figure.Figure at 0x7fe59f48e400>"
      ]
     },
     "metadata": {},
     "output_type": "display_data"
    }
   ],
   "source": [
    "fig, ax = plt.subplots(figsize=(15,12))\n",
    "ax.scatter(Gmi2, Pdc2)\n",
    "ax.plot(Gmi2, predicted2,'r--')\n",
    "ax.set_xlabel('Gmi')\n",
    "ax.set_ylabel('Pdc')\n",
    "plt.show()"
   ]
  },
  {
   "cell_type": "markdown",
   "metadata": {},
   "source": [
    "# Other regression models"
   ]
  },
  {
   "cell_type": "markdown",
   "metadata": {},
   "source": [
    "We now look at more advanced models to increase the accuracy of the predicted values."
   ]
  },
  {
   "cell_type": "markdown",
   "metadata": {},
   "source": [
    "## Polynomial interpolation"
   ]
  },
  {
   "cell_type": "markdown",
   "metadata": {},
   "source": [
    "We first look at polynomial models, that is, we use different powers of irradiance as features of the model:\n",
    "$$[1, x^1, x^2, ..., x^{degree}]$$\n",
    "Where x is each column of the matrix X. In this case, just irradiation"
   ]
  },
  {
   "cell_type": "code",
   "execution_count": 46,
   "metadata": {
    "collapsed": true
   },
   "outputs": [],
   "source": [
    "from sklearn.linear_model import Ridge\n",
    "from sklearn.preprocessing import PolynomialFeatures\n",
    "from sklearn.pipeline import make_pipeline"
   ]
  },
  {
   "cell_type": "markdown",
   "metadata": {},
   "source": [
    "We start by looking at the models for degrees 3, 4 and 5."
   ]
  },
  {
   "cell_type": "code",
   "execution_count": 47,
   "metadata": {
    "collapsed": false
   },
   "outputs": [],
   "source": [
    "colors = ['red', 'yellowgreen', 'gold']"
   ]
  },
  {
   "cell_type": "code",
   "execution_count": 48,
   "metadata": {
    "collapsed": false,
    "scrolled": false
   },
   "outputs": [
    {
     "data": {
      "image/png": "[encoded data removed]",
      "text/plain": [
       "<matplotlib.figure.Figure at 0x7fe5727fbe48>"
      ]
     },
     "metadata": {},
     "output_type": "display_data"
    }
   ],
   "source": [
    "fig, ax = plt.subplots(figsize=(15,12))\n",
    "ax.scatter(Gmi2, Pdc2, color='cornflowerblue', label=\"ground truth\")\n",
    "for count, degree in enumerate([3, 4, 5]):\n",
    "    model = make_pipeline(PolynomialFeatures(degree), Ridge())\n",
    "    model.fit(Gmi2.reshape(-1,1), Pdc2)\n",
    "    y_plot = model.predict(Gmi2.reshape(-1,1))\n",
    "    plt.plot(Gmi2, y_plot, color=colors[count], label=\"degree %d\" % degree)\n"
   ]
  },
  {
   "cell_type": "markdown",
   "metadata": {},
   "source": [
    "And we now evaluate the accuracy for different degrees."
   ]
  },
  {
   "cell_type": "code",
   "execution_count": 49,
   "metadata": {
    "collapsed": false,
    "scrolled": true
   },
   "outputs": [
    {
     "name": "stdout",
     "output_type": "stream",
     "text": [
      "1 \t 0.916549764919\n",
      "2 \t 0.916753021399\n",
      "3 \t 0.916559022876\n",
      "4 \t 0.9165506641\n",
      "5 \t 0.916468191573\n",
      "6 \t 0.91649866604\n",
      "7 \t 0.916385608189\n",
      "8 \t 0.916334017856\n",
      "9 \t 0.916231170135\n",
      "10 \t 0.916129699568\n"
     ]
    }
   ],
   "source": [
    "for degree in range(1,11):\n",
    "    model = make_pipeline(PolynomialFeatures(degree), Ridge())\n",
    "    print(degree, '\\t', cross_val_score(model, Gmi2.reshape(-1,1), Pdc2, cv=10, n_jobs=-1).mean())"
   ]
  },
  {
   "cell_type": "markdown",
   "metadata": {},
   "source": [
    "Thus, degree 2 gives the best accuracy and we save this model as the best one using irradiance only.\n",
    "This result seems correct since it resembles the typical logarithmic curve of the performances of any electronic device."
   ]
  },
  {
   "cell_type": "code",
   "execution_count": 50,
   "metadata": {
    "collapsed": false
   },
   "outputs": [
    {
     "data": {
      "text/plain": [
       "Pipeline(steps=[('polynomialfeatures', PolynomialFeatures(degree=2, include_bias=True, interaction_only=False)), ('ridge', Ridge(alpha=1.0, copy_X=True, fit_intercept=True, max_iter=None,\n",
       "   normalize=False, random_state=None, solver='auto', tol=0.001))])"
      ]
     },
     "execution_count": 50,
     "metadata": {},
     "output_type": "execute_result"
    }
   ],
   "source": [
    "model = make_pipeline(PolynomialFeatures(2), Ridge())\n",
    "model.fit(Gmi2.reshape(-1,1), Pdc2)"
   ]
  },
  {
   "cell_type": "code",
   "execution_count": 51,
   "metadata": {
    "collapsed": true
   },
   "outputs": [],
   "source": [
    "pickle.dump(model, open('model.p', 'wb'))"
   ]
  },
  {
   "cell_type": "markdown",
   "metadata": {},
   "source": [
    "# Load temperature and wind measurements"
   ]
  },
  {
   "cell_type": "markdown",
   "metadata": {},
   "source": [
    "We load temperature and wind measurements for the ELL building, obtained as described in the `geocoding module`."
   ]
  },
  {
   "cell_type": "code",
   "execution_count": 52,
   "metadata": {
    "collapsed": false
   },
   "outputs": [
    {
     "data": {
      "text/html": [
       "<div>\n",
       "<table border=\"1\" class=\"dataframe\">\n",
       "  <thead>\n",
       "    <tr style=\"text-align: right;\">\n",
       "      <th></th>\n",
       "      <th>Temp</th>\n",
       "      <th>Wind</th>\n",
       "    </tr>\n",
       "  </thead>\n",
       "  <tbody>\n",
       "    <tr>\n",
       "      <th>2016-01-01 01:00:00</th>\n",
       "      <td>7.30</td>\n",
       "      <td>0.0</td>\n",
       "    </tr>\n",
       "    <tr>\n",
       "      <th>2016-01-01 01:01:00</th>\n",
       "      <td>7.32</td>\n",
       "      <td>0.0</td>\n",
       "    </tr>\n",
       "    <tr>\n",
       "      <th>2016-01-01 01:02:00</th>\n",
       "      <td>7.34</td>\n",
       "      <td>0.0</td>\n",
       "    </tr>\n",
       "    <tr>\n",
       "      <th>2016-01-01 01:03:00</th>\n",
       "      <td>7.36</td>\n",
       "      <td>0.0</td>\n",
       "    </tr>\n",
       "    <tr>\n",
       "      <th>2016-01-01 01:04:00</th>\n",
       "      <td>7.38</td>\n",
       "      <td>0.0</td>\n",
       "    </tr>\n",
       "  </tbody>\n",
       "</table>\n",
       "</div>"
      ],
      "text/plain": [
       "                     Temp  Wind\n",
       "2016-01-01 01:00:00  7.30   0.0\n",
       "2016-01-01 01:01:00  7.32   0.0\n",
       "2016-01-01 01:02:00  7.34   0.0\n",
       "2016-01-01 01:03:00  7.36   0.0\n",
       "2016-01-01 01:04:00  7.38   0.0"
      ]
     },
     "execution_count": 52,
     "metadata": {},
     "output_type": "execute_result"
    }
   ],
   "source": [
    "tempWind = pickle.load(open(\"ELL data/ELL_temp_wind_df.p\",\"rb\"))\n",
    "tempWind.head()"
   ]
  },
  {
   "cell_type": "markdown",
   "metadata": {},
   "source": [
    "We add timestamp for each such measurement."
   ]
  },
  {
   "cell_type": "code",
   "execution_count": 53,
   "metadata": {
    "collapsed": false
   },
   "outputs": [],
   "source": [
    "seconds = power2['time'].apply(get_timestamp_from_time)\n",
    "tempWind['timestamp'] = seconds"
   ]
  },
  {
   "cell_type": "markdown",
   "metadata": {},
   "source": [
    "## Predicting future values"
   ]
  },
  {
   "cell_type": "markdown",
   "metadata": {},
   "source": [
    "And we define a new DataFrame of features for our regression objective."
   ]
  },
  {
   "cell_type": "code",
   "execution_count": 54,
   "metadata": {
    "collapsed": false
   },
   "outputs": [
    {
     "data": {
      "text/html": [
       "<div>\n",
       "<table border=\"1\" class=\"dataframe\">\n",
       "  <thead>\n",
       "    <tr style=\"text-align: right;\">\n",
       "      <th></th>\n",
       "      <th>irradiance</th>\n",
       "      <th>Temp</th>\n",
       "      <th>Wind</th>\n",
       "    </tr>\n",
       "  </thead>\n",
       "  <tbody>\n",
       "    <tr>\n",
       "      <th>9519</th>\n",
       "      <td>5.380000</td>\n",
       "      <td>5.78</td>\n",
       "      <td>1.92</td>\n",
       "    </tr>\n",
       "    <tr>\n",
       "      <th>9520</th>\n",
       "      <td>5.558833</td>\n",
       "      <td>5.80</td>\n",
       "      <td>1.60</td>\n",
       "    </tr>\n",
       "    <tr>\n",
       "      <th>9521</th>\n",
       "      <td>5.683167</td>\n",
       "      <td>5.84</td>\n",
       "      <td>1.60</td>\n",
       "    </tr>\n",
       "    <tr>\n",
       "      <th>9522</th>\n",
       "      <td>5.636500</td>\n",
       "      <td>5.88</td>\n",
       "      <td>1.60</td>\n",
       "    </tr>\n",
       "    <tr>\n",
       "      <th>9523</th>\n",
       "      <td>5.444833</td>\n",
       "      <td>5.92</td>\n",
       "      <td>1.60</td>\n",
       "    </tr>\n",
       "  </tbody>\n",
       "</table>\n",
       "</div>"
      ],
      "text/plain": [
       "      irradiance  Temp  Wind\n",
       "9519    5.380000  5.78  1.92\n",
       "9520    5.558833  5.80  1.60\n",
       "9521    5.683167  5.84  1.60\n",
       "9522    5.636500  5.88  1.60\n",
       "9523    5.444833  5.92  1.60"
      ]
     },
     "execution_count": 54,
     "metadata": {},
     "output_type": "execute_result"
    }
   ],
   "source": [
    "tempWind.reset_index(inplace=True)\n",
    "\n",
    "features_df = pd.concat([Gmi2, tempWind],axis = 1, join='inner')\n",
    "features_df = features_df.drop(['index', 'timestamp'], axis=1)\n",
    "\n",
    "features_df.head()"
   ]
  },
  {
   "cell_type": "markdown",
   "metadata": {},
   "source": [
    "### Linear Regression"
   ]
  },
  {
   "cell_type": "code",
   "execution_count": 55,
   "metadata": {
    "collapsed": true
   },
   "outputs": [],
   "source": [
    "X = features_df.values"
   ]
  },
  {
   "cell_type": "code",
   "execution_count": 56,
   "metadata": {
    "collapsed": true
   },
   "outputs": [],
   "source": [
    "lin_reg3 = linear_model.LinearRegression()"
   ]
  },
  {
   "cell_type": "code",
   "execution_count": 57,
   "metadata": {
    "collapsed": false
   },
   "outputs": [
    {
     "name": "stdout",
     "output_type": "stream",
     "text": [
      "0.914915868773\n"
     ]
    }
   ],
   "source": [
    "scores3 = cross_val_score(lin_reg3, X, Pdc2, cv=10, n_jobs=-1)\n",
    "print(scores3.mean())"
   ]
  },
  {
   "cell_type": "markdown",
   "metadata": {},
   "source": [
    "Thus, we notice that linear regression using only irradiance and removing missing values actually performed better than these three features combined."
   ]
  },
  {
   "cell_type": "markdown",
   "metadata": {
    "collapsed": true
   },
   "source": [
    "## Polynomial interpolation"
   ]
  },
  {
   "cell_type": "markdown",
   "metadata": {},
   "source": [
    "We now look at Kernelized Ridge Regression and assess the performances of the models obtained for different degrees."
   ]
  },
  {
   "cell_type": "code",
   "execution_count": 58,
   "metadata": {
    "collapsed": false,
    "scrolled": false
   },
   "outputs": [
    {
     "name": "stdout",
     "output_type": "stream",
     "text": [
      "1 \t 0.914915869093\n",
      "2 \t 0.910482373667\n",
      "3 \t 0.90452096678\n",
      "4 \t 0.899605113148\n",
      "5 \t 0.881250599311\n"
     ]
    }
   ],
   "source": [
    "for degree in range(1,6):\n",
    "    model = make_pipeline(PolynomialFeatures(degree), Ridge())\n",
    "    print(degree, '\\t', cross_val_score(model, X, Pdc2, cv=10, n_jobs=-1).mean())"
   ]
  },
  {
   "cell_type": "markdown",
   "metadata": {},
   "source": [
    "Thus, for these features, the most accurate model is a linear one."
   ]
  },
  {
   "cell_type": "code",
   "execution_count": 59,
   "metadata": {
    "collapsed": false
   },
   "outputs": [
    {
     "data": {
      "text/plain": [
       "Pipeline(steps=[('polynomialfeatures', PolynomialFeatures(degree=1, include_bias=True, interaction_only=False)), ('ridge', Ridge(alpha=1.0, copy_X=True, fit_intercept=True, max_iter=None,\n",
       "   normalize=False, random_state=None, solver='auto', tol=0.001))])"
      ]
     },
     "execution_count": 59,
     "metadata": {},
     "output_type": "execute_result"
    }
   ],
   "source": [
    "model = make_pipeline(PolynomialFeatures(1), Ridge())\n",
    "model.fit(X, Pdc2)"
   ]
  },
  {
   "cell_type": "code",
   "execution_count": 60,
   "metadata": {
    "collapsed": true
   },
   "outputs": [],
   "source": [
    "pickle.dump(model, open('model_with_temp_wind.p', 'wb'))"
   ]
  },
  {
   "cell_type": "markdown",
   "metadata": {},
   "source": [
    "At the end, polynomial interpolation using only irradiance (`model.p`) gives the best accuracy among the all the models we have investigated."
   ]
  }
 ],
 "metadata": {
  "anaconda-cloud": {},
  "kernelspec": {
   "display_name": "Python [Root]",
   "language": "python",
   "name": "Python [Root]"
  },
  "language_info": {
   "codemirror_mode": {
    "name": "ipython",
    "version": 3
   },
   "file_extension": ".py",
   "mimetype": "text/x-python",
   "name": "python",
   "nbconvert_exporter": "python",
   "pygments_lexer": "ipython3",
   "version": "3.5.2"
  }
 },
 "nbformat": 4,
 "nbformat_minor": 0
}
