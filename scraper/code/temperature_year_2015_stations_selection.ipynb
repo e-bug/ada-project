{
 "cells": [
  {
   "cell_type": "code",
   "execution_count": 1,
   "metadata": {
    "collapsed": true
   },
   "outputs": [],
   "source": [
    "import pandas as pd"
   ]
  },
  {
   "cell_type": "markdown",
   "metadata": {},
   "source": [
    "Load stations"
   ]
  },
  {
   "cell_type": "code",
   "execution_count": 2,
   "metadata": {
    "collapsed": false
   },
   "outputs": [
    {
     "data": {
      "text/html": [
       "<div>\n",
       "<table border=\"1\" class=\"dataframe\">\n",
       "  <thead>\n",
       "    <tr style=\"text-align: right;\">\n",
       "      <th></th>\n",
       "      <th>0</th>\n",
       "      <th>1</th>\n",
       "      <th>2</th>\n",
       "      <th>3</th>\n",
       "      <th>4</th>\n",
       "      <th>5</th>\n",
       "      <th>6</th>\n",
       "      <th>7</th>\n",
       "    </tr>\n",
       "  </thead>\n",
       "  <tbody>\n",
       "    <tr>\n",
       "      <th>0</th>\n",
       "      <td>Aadorf / Tänikon</td>\n",
       "      <td>539</td>\n",
       "      <td>Air temperature 2 m above ground; current value</td>\n",
       "      <td>degree Celsius</td>\n",
       "      <td>Ten minutes</td>\n",
       "      <td>01.01.2015</td>\n",
       "      <td>31.01.2015</td>\n",
       "      <td>NaN</td>\n",
       "    </tr>\n",
       "    <tr>\n",
       "      <th>1</th>\n",
       "      <td>Acquarossa / Comprovasco</td>\n",
       "      <td>575</td>\n",
       "      <td>Air temperature 2 m above ground; current value</td>\n",
       "      <td>degree Celsius</td>\n",
       "      <td>Ten minutes</td>\n",
       "      <td>01.01.2015</td>\n",
       "      <td>31.01.2015</td>\n",
       "      <td>NaN</td>\n",
       "    </tr>\n",
       "    <tr>\n",
       "      <th>2</th>\n",
       "      <td>Adelboden</td>\n",
       "      <td>1327</td>\n",
       "      <td>Air temperature 2 m above ground; current value</td>\n",
       "      <td>degree Celsius</td>\n",
       "      <td>Ten minutes</td>\n",
       "      <td>01.01.2015</td>\n",
       "      <td>31.01.2015</td>\n",
       "      <td>NaN</td>\n",
       "    </tr>\n",
       "    <tr>\n",
       "      <th>3</th>\n",
       "      <td>Aigle</td>\n",
       "      <td>381</td>\n",
       "      <td>Air temperature 2 m above ground; current value</td>\n",
       "      <td>degree Celsius</td>\n",
       "      <td>Ten minutes</td>\n",
       "      <td>01.01.2015</td>\n",
       "      <td>31.01.2015</td>\n",
       "      <td>NaN</td>\n",
       "    </tr>\n",
       "    <tr>\n",
       "      <th>4</th>\n",
       "      <td>Alptal Bestand</td>\n",
       "      <td>1168</td>\n",
       "      <td>Air temperature 2 m above ground; current value</td>\n",
       "      <td>degree Celsius</td>\n",
       "      <td>Ten minutes</td>\n",
       "      <td>01.01.2015</td>\n",
       "      <td>31.01.2015</td>\n",
       "      <td>NaN</td>\n",
       "    </tr>\n",
       "  </tbody>\n",
       "</table>\n",
       "</div>"
      ],
      "text/plain": [
       "                          0     1  \\\n",
       "0          Aadorf / Tänikon   539   \n",
       "1  Acquarossa / Comprovasco   575   \n",
       "2                 Adelboden  1327   \n",
       "3                     Aigle   381   \n",
       "4            Alptal Bestand  1168   \n",
       "\n",
       "                                                 2               3  \\\n",
       "0  Air temperature 2 m above ground; current value  degree Celsius   \n",
       "1  Air temperature 2 m above ground; current value  degree Celsius   \n",
       "2  Air temperature 2 m above ground; current value  degree Celsius   \n",
       "3  Air temperature 2 m above ground; current value  degree Celsius   \n",
       "4  Air temperature 2 m above ground; current value  degree Celsius   \n",
       "\n",
       "             4           5           6   7  \n",
       "0  Ten minutes  01.01.2015  31.01.2015 NaN  \n",
       "1  Ten minutes  01.01.2015  31.01.2015 NaN  \n",
       "2  Ten minutes  01.01.2015  31.01.2015 NaN  \n",
       "3  Ten minutes  01.01.2015  31.01.2015 NaN  \n",
       "4  Ten minutes  01.01.2015  31.01.2015 NaN  "
      ]
     },
     "execution_count": 2,
     "metadata": {},
     "output_type": "execute_result"
    }
   ],
   "source": [
    "jan_df = pd.read_csv('stations_january_2015.txt', sep='\\t', header=None)\n",
    "jan_df.head()"
   ]
  },
  {
   "cell_type": "code",
   "execution_count": 3,
   "metadata": {
    "collapsed": false
   },
   "outputs": [
    {
     "data": {
      "text/html": [
       "<div>\n",
       "<table border=\"1\" class=\"dataframe\">\n",
       "  <thead>\n",
       "    <tr style=\"text-align: right;\">\n",
       "      <th></th>\n",
       "      <th>0</th>\n",
       "      <th>1</th>\n",
       "      <th>2</th>\n",
       "      <th>3</th>\n",
       "      <th>4</th>\n",
       "      <th>5</th>\n",
       "      <th>6</th>\n",
       "      <th>7</th>\n",
       "    </tr>\n",
       "  </thead>\n",
       "  <tbody>\n",
       "    <tr>\n",
       "      <th>0</th>\n",
       "      <td>Aadorf / Tänikon</td>\n",
       "      <td>539</td>\n",
       "      <td>Air temperature 2 m above ground; current value</td>\n",
       "      <td>degree Celsius</td>\n",
       "      <td>Ten minutes</td>\n",
       "      <td>01.01.2015</td>\n",
       "      <td>31.12.2015</td>\n",
       "      <td>NaN</td>\n",
       "    </tr>\n",
       "    <tr>\n",
       "      <th>1</th>\n",
       "      <td>Acquarossa / Comprovasco</td>\n",
       "      <td>575</td>\n",
       "      <td>Air temperature 2 m above ground; current value</td>\n",
       "      <td>degree Celsius</td>\n",
       "      <td>Ten minutes</td>\n",
       "      <td>01.01.2015</td>\n",
       "      <td>31.12.2015</td>\n",
       "      <td>NaN</td>\n",
       "    </tr>\n",
       "    <tr>\n",
       "      <th>2</th>\n",
       "      <td>Adelboden</td>\n",
       "      <td>1327</td>\n",
       "      <td>Air temperature 2 m above ground; current value</td>\n",
       "      <td>degree Celsius</td>\n",
       "      <td>Ten minutes</td>\n",
       "      <td>01.01.2015</td>\n",
       "      <td>31.12.2015</td>\n",
       "      <td>NaN</td>\n",
       "    </tr>\n",
       "    <tr>\n",
       "      <th>3</th>\n",
       "      <td>Aigle</td>\n",
       "      <td>381</td>\n",
       "      <td>Air temperature 2 m above ground; current value</td>\n",
       "      <td>degree Celsius</td>\n",
       "      <td>Ten minutes</td>\n",
       "      <td>01.01.2015</td>\n",
       "      <td>31.12.2015</td>\n",
       "      <td>NaN</td>\n",
       "    </tr>\n",
       "    <tr>\n",
       "      <th>4</th>\n",
       "      <td>Alptal Bestand</td>\n",
       "      <td>1168</td>\n",
       "      <td>Air temperature 2 m above ground; current value</td>\n",
       "      <td>degree Celsius</td>\n",
       "      <td>Ten minutes</td>\n",
       "      <td>01.01.2015</td>\n",
       "      <td>31.12.2015</td>\n",
       "      <td>NaN</td>\n",
       "    </tr>\n",
       "  </tbody>\n",
       "</table>\n",
       "</div>"
      ],
      "text/plain": [
       "                          0     1  \\\n",
       "0          Aadorf / Tänikon   539   \n",
       "1  Acquarossa / Comprovasco   575   \n",
       "2                 Adelboden  1327   \n",
       "3                     Aigle   381   \n",
       "4            Alptal Bestand  1168   \n",
       "\n",
       "                                                 2               3  \\\n",
       "0  Air temperature 2 m above ground; current value  degree Celsius   \n",
       "1  Air temperature 2 m above ground; current value  degree Celsius   \n",
       "2  Air temperature 2 m above ground; current value  degree Celsius   \n",
       "3  Air temperature 2 m above ground; current value  degree Celsius   \n",
       "4  Air temperature 2 m above ground; current value  degree Celsius   \n",
       "\n",
       "             4           5           6   7  \n",
       "0  Ten minutes  01.01.2015  31.12.2015 NaN  \n",
       "1  Ten minutes  01.01.2015  31.12.2015 NaN  \n",
       "2  Ten minutes  01.01.2015  31.12.2015 NaN  \n",
       "3  Ten minutes  01.01.2015  31.12.2015 NaN  \n",
       "4  Ten minutes  01.01.2015  31.12.2015 NaN  "
      ]
     },
     "execution_count": 3,
     "metadata": {},
     "output_type": "execute_result"
    }
   ],
   "source": [
    "dec_df = pd.read_csv('stations_december_2015.txt', sep='\\t', header=None)\n",
    "dec_df.head()"
   ]
  },
  {
   "cell_type": "markdown",
   "metadata": {},
   "source": [
    "Get names of stations"
   ]
  },
  {
   "cell_type": "code",
   "execution_count": 4,
   "metadata": {
    "collapsed": false
   },
   "outputs": [],
   "source": [
    "jan_names = set(jan_df[0].values)\n",
    "dec_names = set(dec_df[0].values)"
   ]
  },
  {
   "cell_type": "markdown",
   "metadata": {},
   "source": [
    "Get new stations"
   ]
  },
  {
   "cell_type": "code",
   "execution_count": 5,
   "metadata": {
    "collapsed": false
   },
   "outputs": [
    {
     "data": {
      "text/plain": [
       "{'Bergün / Latsch',\n",
       " 'Bivio',\n",
       " 'Col des Mosses',\n",
       " 'Courtelary',\n",
       " 'Flühli, LU',\n",
       " 'Frutigen',\n",
       " 'Gersau',\n",
       " 'Lachen / Galgenen',\n",
       " 'Les Marécottes',\n",
       " 'Mottec',\n",
       " 'Nottwil / SPZ',\n",
       " 'Oberriet, SG',\n",
       " 'Otemma',\n",
       " 'Vals',\n",
       " 'Vevey / Corseaux'}"
      ]
     },
     "execution_count": 5,
     "metadata": {},
     "output_type": "execute_result"
    }
   ],
   "source": [
    "new_stations_names = dec_names.difference(jan_names)\n",
    "new_stations_names"
   ]
  },
  {
   "cell_type": "code",
   "execution_count": null,
   "metadata": {
    "collapsed": true
   },
   "outputs": [],
   "source": []
  },
  {
   "cell_type": "code",
   "execution_count": 6,
   "metadata": {
    "collapsed": false
   },
   "outputs": [],
   "source": [
    "with open('new_stations.txt', 'w') as f:\n",
    "    for name in sorted(new_stations_names):\n",
    "        f.write(name + '\\n')"
   ]
  },
  {
   "cell_type": "code",
   "execution_count": null,
   "metadata": {
    "collapsed": true
   },
   "outputs": [],
   "source": []
  }
 ],
 "metadata": {
  "kernelspec": {
   "display_name": "Python [Root]",
   "language": "python",
   "name": "Python [Root]"
  },
  "language_info": {
   "codemirror_mode": {
    "name": "ipython",
    "version": 3
   },
   "file_extension": ".py",
   "mimetype": "text/x-python",
   "name": "python",
   "nbconvert_exporter": "python",
   "pygments_lexer": "ipython3",
   "version": "3.5.2"
  }
 },
 "nbformat": 4,
 "nbformat_minor": 0
}
